{
  "nbformat": 4,
  "nbformat_minor": 0,
  "metadata": {
    "colab": {
      "name": "CNN-Mnist.ipynb",
      "provenance": [],
      "collapsed_sections": [],
      "authorship_tag": "ABX9TyOzDCSSQaanEuWUXtn0d2i+",
      "include_colab_link": true
    },
    "kernelspec": {
      "name": "python3",
      "display_name": "Python 3"
    },
    "language_info": {
      "name": "python"
    },
    "accelerator": "GPU"
  },
  "cells": [
    {
      "cell_type": "markdown",
      "metadata": {
        "id": "view-in-github",
        "colab_type": "text"
      },
      "source": [
        "<a href=\"https://colab.research.google.com/github/gilvandrocesardemedeiros/DCA_UFRN_IA/blob/main/CNN_Mnist.ipynb\" target=\"_parent\"><img src=\"https://colab.research.google.com/assets/colab-badge.svg\" alt=\"Open In Colab\"/></a>"
      ]
    },
    {
      "cell_type": "markdown",
      "metadata": {
        "id": "_wKypsvaSebI"
      },
      "source": [
        "AVISO PROS CODERS DE PLANTÃO\n",
        "\n",
        "Eu tava meio de saco cheio quando fiz isso a um tempo, aí tem uns nomes de corno pra variaveis\n",
        "\n",
        "X_train é diferente de x_train\n",
        "Y_train é diferente de y_train\n",
        "\n",
        "e o mesmo vale pro teste\n"
      ]
    },
    {
      "cell_type": "code",
      "metadata": {
        "id": "mnGM2Ig37njQ"
      },
      "source": [
        "import keras\n",
        "from keras.datasets import mnist\n",
        "import numpy as np"
      ],
      "execution_count": 1,
      "outputs": []
    },
    {
      "cell_type": "code",
      "metadata": {
        "id": "ioIeAFbK8jg5",
        "colab": {
          "base_uri": "https://localhost:8080/"
        },
        "outputId": "0bab5c8e-121d-4def-bd2f-39e82d832007"
      },
      "source": [
        "#load mnist dataset\n",
        "(X_trainval, y_trainval), (X_test, Y_test) = mnist.load_data() #everytime loading data won't be so easy :)"
      ],
      "execution_count": 2,
      "outputs": [
        {
          "output_type": "stream",
          "text": [
            "Downloading data from https://storage.googleapis.com/tensorflow/tf-keras-datasets/mnist.npz\n",
            "11493376/11490434 [==============================] - 0s 0us/step\n"
          ],
          "name": "stdout"
        }
      ]
    },
    {
      "cell_type": "code",
      "metadata": {
        "colab": {
          "base_uri": "https://localhost:8080/"
        },
        "id": "VfpMm8ROGQMY",
        "outputId": "cb4cdf6c-37f3-47e2-e9d7-832e731b2330"
      },
      "source": [
        "from collections import Counter\n",
        "Counter(Y_test)"
      ],
      "execution_count": 3,
      "outputs": [
        {
          "output_type": "execute_result",
          "data": {
            "text/plain": [
              "Counter({0: 980,\n",
              "         1: 1135,\n",
              "         2: 1032,\n",
              "         3: 1010,\n",
              "         4: 982,\n",
              "         5: 892,\n",
              "         6: 958,\n",
              "         7: 1028,\n",
              "         8: 974,\n",
              "         9: 1009})"
            ]
          },
          "metadata": {
            "tags": []
          },
          "execution_count": 3
        }
      ]
    },
    {
      "cell_type": "code",
      "metadata": {
        "colab": {
          "base_uri": "https://localhost:8080/",
          "height": 551
        },
        "id": "I86UlcJs8gew",
        "outputId": "668850e6-411e-452f-9078-adb06aabaa44"
      },
      "source": [
        "import matplotlib.pyplot as plt\n",
        "fig = plt.figure()\n",
        "for i in range(9):\n",
        "  plt.subplot(3,3,i+1)\n",
        "  plt.tight_layout()\n",
        "  plt.imshow(X_trainval[i], cmap='gray', interpolation='none')\n",
        "  plt.title(\"Digit: {}\".format(y_trainval[i]))\n",
        "  plt.xticks([])\n",
        "  plt.yticks([])\n",
        "fig"
      ],
      "execution_count": 4,
      "outputs": [
        {
          "output_type": "execute_result",
          "data": {
            "image/png": "[encoded data removed]",
            "text/plain": [
              "<Figure size 432x288 with 9 Axes>"
            ]
          },
          "metadata": {
            "tags": []
          },
          "execution_count": 4
        },
        {
          "output_type": "display_data",
          "data": {
            "image/png": "[encoded data removed]",
            "text/plain": [
              "<Figure size 432x288 with 9 Axes>"
            ]
          },
          "metadata": {
            "tags": []
          }
        }
      ]
    },
    {
      "cell_type": "code",
      "metadata": {
        "colab": {
          "base_uri": "https://localhost:8080/"
        },
        "id": "hr2DOOZy9ebz",
        "outputId": "fb027887-b9bf-4ac3-854d-5f1388f1084a"
      },
      "source": [
        "X_trainval = X_trainval.astype('float32')\n",
        "X_test = X_test.astype('float32')\n",
        "X_trainval /= 255\n",
        "X_test /= 255\n",
        "print('X_train shape:', X_train.shape)\n",
        "print('X_train shape:', X_train.shape)  #X_train shape: (60000, 28, 28, 1)"
      ],
      "execution_count": 5,
      "outputs": [
        {
          "output_type": "stream",
          "text": [
            "X_train shape: (60000, 28, 28)\n",
            "X_train shape: (60000, 28, 28)\n"
          ],
          "name": "stdout"
        }
      ]
    },
    {
      "cell_type": "code",
      "metadata": {
        "id": "4C237yCh9olC"
      },
      "source": [
        "import keras\n",
        "#set number of categories\n",
        "num_category = 10\n",
        "# convert class vectors to binary class matrices\n",
        "y_train = keras.utils.to_categorical(Y_trainval, num_category)\n",
        "y_test = keras.utils.to_categorical(Y_test, num_category)"
      ],
      "execution_count": 6,
      "outputs": []
    },
    {
      "cell_type": "code",
      "metadata": {
        "id": "FWam63eH9vcy"
      },
      "source": [
        "from keras.models import Sequential\n",
        "from keras.layers import Dense, Dropout, Flatten\n",
        "from keras.layers import Conv2D, MaxPooling2D, AveragePooling2D, BatchNormalization\n",
        "from keras.callbacks import TensorBoard\n",
        "from time import time\n",
        "from sklearn.metrics import classification_report, confusion_matrix, accuracy_score\n",
        "from sklearn.model_selection import train_test_split"
      ],
      "execution_count": 7,
      "outputs": []
    },
    {
      "cell_type": "code",
      "metadata": {
        "colab": {
          "base_uri": "https://localhost:8080/"
        },
        "id": "o1CYQow6_XYN",
        "outputId": "3367127d-1665-44c3-f53c-9107e30c6d05"
      },
      "source": [
        "X_trainval = np.reshape(X_trainval,(60000,28,28,1))\n",
        "X_test = np.reshape(X_test,(10000,28,28,1))\n",
        "print('X_train shape:', X_trainval.shape)\n",
        "print('X_train shape:', X_test.shape)  #X_train shape: (60000, 28, 28, 1)"
      ],
      "execution_count": 8,
      "outputs": [
        {
          "output_type": "stream",
          "text": [
            "X_train shape: (60000, 28, 28, 1)\n",
            "X_train shape: (10000, 28, 28, 1)\n"
          ],
          "name": "stdout"
        }
      ]
    },
    {
      "cell_type": "code",
      "metadata": {
        "id": "wrZJwS7wz5K_"
      },
      "source": [
        "x_train, X_valid, y_train, y_valid = train_test_split(X_trainval, y_trainval, test_size=0.2, random_state=0)"
      ],
      "execution_count": 9,
      "outputs": []
    },
    {
      "cell_type": "code",
      "metadata": {
        "id": "C5jtwyPLuUS5"
      },
      "source": [
        "lenet = Sequential()\n",
        "\n",
        "#layer 1: C1\n",
        "lenet.add(keras.layers.Conv2D( filters = 6,\n",
        "                         kernel_size = (5,5),\n",
        "                         strides = 1,\n",
        "                         padding = \"same\",\n",
        "                         activation = 'tanh',\n",
        "                         input_shape=(28,28,1)))\n",
        "\n",
        "#layer 2: pool\n",
        "\n",
        "lenet.add(keras.layers.AveragePooling2D(pool_size = (2,2),\n",
        "                                 strides = (2,2),\n",
        "                                 padding = 'valid'))\n",
        "\n",
        "#layer 3: C2\n",
        "\n",
        "lenet.add(keras.layers.Conv2D( filters = 16,\n",
        "                         kernel_size = (5,5),\n",
        "                         strides = (1,1),\n",
        "                         padding = \"valid\",\n",
        "                         activation = 'tanh'))\n",
        "\n",
        "#layer 4: pool\n",
        "\n",
        "lenet.add(keras.layers.AveragePooling2D(pool_size = (2,2),\n",
        "                                 strides = (2,2),\n",
        "                                 padding = 'valid'))\n",
        "\n",
        "#layer 5 : flatten\n",
        "\n",
        "lenet.add(Flatten())\n",
        "\n",
        "#layer 6: FC\n",
        "\n",
        "lenet.add(keras.layers.Dense(units = 120, \n",
        "                             activation = 'tanh'))\n",
        "\n",
        "lenet.add(keras.layers.Dense(units = 84, \n",
        "                             activation = 'tanh'))\n",
        "\n",
        "lenet.add(keras.layers.Dense(units = 10, \n",
        "                             activation = 'softmax'))\n",
        "\n"
      ],
      "execution_count": 10,
      "outputs": []
    },
    {
      "cell_type": "code",
      "metadata": {
        "colab": {
          "base_uri": "https://localhost:8080/"
        },
        "id": "zUNmD84pya99",
        "outputId": "f43a9a5b-bdbc-4f4e-a6ef-9fddeae94d3a"
      },
      "source": [
        "lenet.summary()"
      ],
      "execution_count": 11,
      "outputs": [
        {
          "output_type": "stream",
          "text": [
            "Model: \"sequential\"\n",
            "_________________________________________________________________\n",
            "Layer (type)                 Output Shape              Param #   \n",
            "=================================================================\n",
            "conv2d (Conv2D)              (None, 28, 28, 6)         156       \n",
            "_________________________________________________________________\n",
            "average_pooling2d (AveragePo (None, 14, 14, 6)         0         \n",
            "_________________________________________________________________\n",
            "conv2d_1 (Conv2D)            (None, 10, 10, 16)        2416      \n",
            "_________________________________________________________________\n",
            "average_pooling2d_1 (Average (None, 5, 5, 16)          0         \n",
            "_________________________________________________________________\n",
            "flatten (Flatten)            (None, 400)               0         \n",
            "_________________________________________________________________\n",
            "dense (Dense)                (None, 120)               48120     \n",
            "_________________________________________________________________\n",
            "dense_1 (Dense)              (None, 84)                10164     \n",
            "_________________________________________________________________\n",
            "dense_2 (Dense)              (None, 10)                850       \n",
            "=================================================================\n",
            "Total params: 61,706\n",
            "Trainable params: 61,706\n",
            "Non-trainable params: 0\n",
            "_________________________________________________________________\n"
          ],
          "name": "stdout"
        }
      ]
    },
    {
      "cell_type": "code",
      "metadata": {
        "id": "_JfO3t5Jw2fF"
      },
      "source": [
        "lenet.compile(loss=keras.losses.categorical_crossentropy, optimizer=keras.optimizers.Adam(), metrics=['accuracy'])"
      ],
      "execution_count": 12,
      "outputs": []
    },
    {
      "cell_type": "code",
      "metadata": {
        "id": "Kc8vRRLVzQsS"
      },
      "source": [
        "EPOCHS = 12\n",
        "BATCH_SIZE = 32"
      ],
      "execution_count": 13,
      "outputs": []
    },
    {
      "cell_type": "code",
      "metadata": {
        "colab": {
          "base_uri": "https://localhost:8080/"
        },
        "id": "SdfvFELS1z3-",
        "outputId": "05c75652-e5f9-4c45-95c5-b9a302f22930"
      },
      "source": [
        "steps_per_epoch = x_train.shape[0]//BATCH_SIZE\n",
        "validation_steps = X_valid.shape[0]//BATCH_SIZE\n",
        "\n",
        "tensorboard = TensorBoard(log_dir=\"logs/{}\".format(time()))\n",
        "lenet.fit(x_train, y_train, steps_per_epoch=steps_per_epoch, epochs=EPOCHS, \n",
        "          validation_data=(X_valid,y_valid), validation_steps=validation_steps, \n",
        "                    shuffle=True, callbacks=[tensorboard])"
      ],
      "execution_count": 14,
      "outputs": [
        {
          "output_type": "stream",
          "text": [
            "Epoch 1/12\n",
            "1500/1500 [==============================] - 38s 4ms/step - loss: 0.4483 - accuracy: 0.8689 - val_loss: 0.1297 - val_accuracy: 0.9618\n",
            "Epoch 2/12\n",
            "1500/1500 [==============================] - 4s 3ms/step - loss: 0.1123 - accuracy: 0.9680 - val_loss: 0.0833 - val_accuracy: 0.9732\n",
            "Epoch 3/12\n",
            "1500/1500 [==============================] - 5s 3ms/step - loss: 0.0710 - accuracy: 0.9782 - val_loss: 0.0815 - val_accuracy: 0.9764\n",
            "Epoch 4/12\n",
            "1500/1500 [==============================] - 5s 3ms/step - loss: 0.0499 - accuracy: 0.9845 - val_loss: 0.0641 - val_accuracy: 0.9791\n",
            "Epoch 5/12\n",
            "1500/1500 [==============================] - 5s 3ms/step - loss: 0.0391 - accuracy: 0.9873 - val_loss: 0.0574 - val_accuracy: 0.9833\n",
            "Epoch 6/12\n",
            "1500/1500 [==============================] - 4s 3ms/step - loss: 0.0293 - accuracy: 0.9910 - val_loss: 0.0562 - val_accuracy: 0.9830\n",
            "Epoch 7/12\n",
            "1500/1500 [==============================] - 5s 3ms/step - loss: 0.0262 - accuracy: 0.9919 - val_loss: 0.0534 - val_accuracy: 0.9834\n",
            "Epoch 8/12\n",
            "1500/1500 [==============================] - 5s 3ms/step - loss: 0.0191 - accuracy: 0.9947 - val_loss: 0.0552 - val_accuracy: 0.9833\n",
            "Epoch 9/12\n",
            "1500/1500 [==============================] - 5s 3ms/step - loss: 0.0169 - accuracy: 0.9948 - val_loss: 0.0537 - val_accuracy: 0.9843\n",
            "Epoch 10/12\n",
            "1500/1500 [==============================] - 5s 3ms/step - loss: 0.0176 - accuracy: 0.9944 - val_loss: 0.0559 - val_accuracy: 0.9852\n",
            "Epoch 11/12\n",
            "1500/1500 [==============================] - 5s 3ms/step - loss: 0.0134 - accuracy: 0.9954 - val_loss: 0.0594 - val_accuracy: 0.9840\n",
            "Epoch 12/12\n",
            "1500/1500 [==============================] - 5s 3ms/step - loss: 0.0106 - accuracy: 0.9965 - val_loss: 0.0636 - val_accuracy: 0.9832\n"
          ],
          "name": "stdout"
        },
        {
          "output_type": "execute_result",
          "data": {
            "text/plain": [
              "<tensorflow.python.keras.callbacks.History at 0x7f43380fa950>"
            ]
          },
          "metadata": {
            "tags": []
          },
          "execution_count": 14
        }
      ]
    },
    {
      "cell_type": "code",
      "metadata": {
        "colab": {
          "base_uri": "https://localhost:8080/"
        },
        "id": "V49b80iR4ZjY",
        "outputId": "c9b2a1c6-8f33-4dcb-fd9d-416a992d62f5"
      },
      "source": [
        "score = lenet.evaluate(X_test, y_test)\n",
        "print('Test loss:', score[0])\n",
        "print('Test accuracy:', score[1])"
      ],
      "execution_count": 15,
      "outputs": [
        {
          "output_type": "stream",
          "text": [
            "313/313 [==============================] - 1s 2ms/step - loss: 0.0556 - accuracy: 0.9834\n",
            "Test loss: 0.055647846311330795\n",
            "Test accuracy: 0.9833999872207642\n"
          ],
          "name": "stdout"
        }
      ]
    },
    {
      "cell_type": "code",
      "metadata": {
        "colab": {
          "base_uri": "https://localhost:8080/"
        },
        "id": "J95q-9nnILiJ",
        "outputId": "42349f79-51a7-4e30-8a72-cef1860b3c32"
      },
      "source": [
        "print(\"Treino\")\n",
        "predictions = lenet.predict_classes(X_train)\n",
        "print(confusion_matrix(Y_train,predictions))\n",
        "print(classification_report(Y_train,predictions))\n",
        "\n",
        "print(\"Teste\")\n",
        "predictions = lenet.predict_classes(X_test)\n",
        "print(confusion_matrix(Y_test,predictions))\n",
        "print(classification_report(Y_test,predictions))"
      ],
      "execution_count": 16,
      "outputs": [
        {
          "output_type": "stream",
          "text": [
            "Treino\n"
          ],
          "name": "stdout"
        },
        {
          "output_type": "stream",
          "text": [
            "/usr/local/lib/python3.7/dist-packages/tensorflow/python/keras/engine/sequential.py:450: UserWarning: `model.predict_classes()` is deprecated and will be removed after 2021-01-01. Please use instead:* `np.argmax(model.predict(x), axis=-1)`,   if your model does multi-class classification   (e.g. if it uses a `softmax` last-layer activation).* `(model.predict(x) > 0.5).astype(\"int32\")`,   if your model does binary classification   (e.g. if it uses a `sigmoid` last-layer activation).\n",
            "  warnings.warn('`model.predict_classes()` is deprecated and '\n"
          ],
          "name": "stderr"
        },
        {
          "output_type": "stream",
          "text": [
            "[[5904    0    2    0    0    4    6    0    7    0]\n",
            " [   0 6725    3    0    2    2    2    5    0    3]\n",
            " [   1   15 5919   10    0    0    0    7    5    1]\n",
            " [   2    1   15 6081    0   14    0    7   10    1]\n",
            " [   0    1    2    0 5817    2    3    2    1   14]\n",
            " [   5    0    2    9    1 5391    7    0    3    3]\n",
            " [   2    1    2    0    2   13 5896    0    2    0]\n",
            " [   1    4   11    4    4    0    0 6224    3   14]\n",
            " [   1    6    5    7    2   18    6    3 5797    6]\n",
            " [   1    1    1    7   29    5    0   13    7 5885]]\n",
            "              precision    recall  f1-score   support\n",
            "\n",
            "           0       1.00      1.00      1.00      5923\n",
            "           1       1.00      1.00      1.00      6742\n",
            "           2       0.99      0.99      0.99      5958\n",
            "           3       0.99      0.99      0.99      6131\n",
            "           4       0.99      1.00      0.99      5842\n",
            "           5       0.99      0.99      0.99      5421\n",
            "           6       1.00      1.00      1.00      5918\n",
            "           7       0.99      0.99      0.99      6265\n",
            "           8       0.99      0.99      0.99      5851\n",
            "           9       0.99      0.99      0.99      5949\n",
            "\n",
            "    accuracy                           0.99     60000\n",
            "   macro avg       0.99      0.99      0.99     60000\n",
            "weighted avg       0.99      0.99      0.99     60000\n",
            "\n",
            "Teste\n",
            "[[ 966    0    1    0    0    1    6    0    5    1]\n",
            " [   1 1128    1    1    0    0    2    2    0    0]\n",
            " [   2    3 1017    5    0    0    2    2    0    1]\n",
            " [   0    0    3  995    1    4    0    3    2    2]\n",
            " [   1    0    1    0  970    0    5    1    0    4]\n",
            " [   2    0    0    7    0  878    3    0    0    2]\n",
            " [   2    2    0    0    2    2  949    0    0    1]\n",
            " [   1    1    8    4    1    0    0 1008    1    4]\n",
            " [   2    1    3    3    2    6    1    2  951    3]\n",
            " [   2    1    2    3   11    7    1    7    3  972]]\n",
            "              precision    recall  f1-score   support\n",
            "\n",
            "           0       0.99      0.99      0.99       980\n",
            "           1       0.99      0.99      0.99      1135\n",
            "           2       0.98      0.99      0.98      1032\n",
            "           3       0.98      0.99      0.98      1010\n",
            "           4       0.98      0.99      0.99       982\n",
            "           5       0.98      0.98      0.98       892\n",
            "           6       0.98      0.99      0.98       958\n",
            "           7       0.98      0.98      0.98      1028\n",
            "           8       0.99      0.98      0.98       974\n",
            "           9       0.98      0.96      0.97      1009\n",
            "\n",
            "    accuracy                           0.98     10000\n",
            "   macro avg       0.98      0.98      0.98     10000\n",
            "weighted avg       0.98      0.98      0.98     10000\n",
            "\n"
          ],
          "name": "stdout"
        }
      ]
    },
    {
      "cell_type": "code",
      "metadata": {
        "id": "jgRzmRgqE5xb"
      },
      "source": [
        ""
      ],
      "execution_count": 16,
      "outputs": []
    },
    {
      "cell_type": "code",
      "metadata": {
        "id": "K-uhOHy9E6GH"
      },
      "source": [
        "#Parte para fazer testes e etc"
      ],
      "execution_count": 17,
      "outputs": []
    },
    {
      "cell_type": "code",
      "metadata": {
        "id": "NgJxODYnE6WS"
      },
      "source": [
        "#load mnist dataset\n",
        "(X_train, Y_train), (X_test, Y_test) = mnist.load_data() "
      ],
      "execution_count": 96,
      "outputs": []
    },
    {
      "cell_type": "code",
      "metadata": {
        "id": "2ufM4gvvE-oW"
      },
      "source": [
        "#Y_train = Y_train % 3\n",
        "#Y_test = Y_test % 3"
      ],
      "execution_count": 97,
      "outputs": []
    },
    {
      "cell_type": "code",
      "metadata": {
        "colab": {
          "base_uri": "https://localhost:8080/"
        },
        "id": "Tj19HXmPGWeo",
        "outputId": "b1912dd9-e446-40f3-ad49-c47e50a6a406"
      },
      "source": [
        "Counter(Y_train)"
      ],
      "execution_count": 98,
      "outputs": [
        {
          "output_type": "execute_result",
          "data": {
            "text/plain": [
              "Counter({0: 5923,\n",
              "         1: 6742,\n",
              "         2: 5958,\n",
              "         3: 6131,\n",
              "         4: 5842,\n",
              "         5: 5421,\n",
              "         6: 5918,\n",
              "         7: 6265,\n",
              "         8: 5851,\n",
              "         9: 5949})"
            ]
          },
          "metadata": {
            "tags": []
          },
          "execution_count": 98
        }
      ]
    },
    {
      "cell_type": "code",
      "metadata": {
        "colab": {
          "base_uri": "https://localhost:8080/"
        },
        "id": "otWxct7yGZJa",
        "outputId": "1ee11a0b-b0d2-4664-e342-9cdcbf26f14f"
      },
      "source": [
        "Counter(Y_test)"
      ],
      "execution_count": 99,
      "outputs": [
        {
          "output_type": "execute_result",
          "data": {
            "text/plain": [
              "Counter({0: 980,\n",
              "         1: 1135,\n",
              "         2: 1032,\n",
              "         3: 1010,\n",
              "         4: 982,\n",
              "         5: 892,\n",
              "         6: 958,\n",
              "         7: 1028,\n",
              "         8: 974,\n",
              "         9: 1009})"
            ]
          },
          "metadata": {
            "tags": []
          },
          "execution_count": 99
        }
      ]
    },
    {
      "cell_type": "code",
      "metadata": {
        "colab": {
          "base_uri": "https://localhost:8080/"
        },
        "id": "2N8kMrIwFbjd",
        "outputId": "3ea1ae26-4f2d-4c2c-bd12-8e5f97e8abda"
      },
      "source": [
        "Y_test"
      ],
      "execution_count": 100,
      "outputs": [
        {
          "output_type": "execute_result",
          "data": {
            "text/plain": [
              "array([7, 2, 1, ..., 4, 5, 6], dtype=uint8)"
            ]
          },
          "metadata": {
            "tags": []
          },
          "execution_count": 100
        }
      ]
    },
    {
      "cell_type": "code",
      "metadata": {
        "id": "Q6dV0Xv9E6WW"
      },
      "source": [
        "X_train = X_train.astype('float32')\n",
        "X_test = X_test.astype('float32')\n",
        "X_train /= 255\n",
        "X_test /= 255"
      ],
      "execution_count": 101,
      "outputs": []
    },
    {
      "cell_type": "code",
      "metadata": {
        "id": "Mvp1wAYBE6WX"
      },
      "source": [
        "X_train = np.reshape(X_train,(60000,28,28,1))\n",
        "X_test = np.reshape(X_test,(10000,28,28,1))"
      ],
      "execution_count": 102,
      "outputs": []
    },
    {
      "cell_type": "code",
      "metadata": {
        "id": "k9NklSTvE6WY"
      },
      "source": [
        "#set number of categories\n",
        "num_category = 10\n",
        "# convert class vectors to binary class matrices\n",
        "y_train = keras.utils.to_categorical(Y_train, num_category)\n",
        "y_test = keras.utils.to_categorical(Y_test, num_category)"
      ],
      "execution_count": 103,
      "outputs": []
    },
    {
      "cell_type": "code",
      "metadata": {
        "id": "lgbFyE7aE6Wg"
      },
      "source": [
        "x_train, X_valid, y_train, y_valid = train_test_split(X_train, y_train, test_size=0.2, random_state=0)"
      ],
      "execution_count": 104,
      "outputs": []
    },
    {
      "cell_type": "code",
      "metadata": {
        "id": "s_18K3ECE6Wa"
      },
      "source": [
        "lenet = Sequential()\n",
        "\n",
        "#layer 1: C1\n",
        "lenet.add(keras.layers.Conv2D( filters = 2,\n",
        "                         kernel_size = (8,8),\n",
        "                         strides = 1,\n",
        "                         padding = \"valid\",\n",
        "                         activation = 'tanh',\n",
        "                         input_shape=(28,28,1)))\n",
        "\n",
        "#layer 2: pool\n",
        "\n",
        "lenet.add(keras.layers.AveragePooling2D(pool_size = (2,2),\n",
        "                                 strides = 2,\n",
        "                                 padding = 'valid'))\n",
        "\n",
        "                        \n",
        "#layer 3 : flatten\n",
        "\n",
        "lenet.add(Flatten())\n",
        "\n",
        "#layer 4: FC\n",
        "\n",
        "lenet.add(keras.layers.Dense(units = 60, \n",
        "                             activation = 'tanh'))\n",
        "\n",
        "lenet.add(keras.layers.Dense(units = 10, \n",
        "                             activation = 'softmax'))\n",
        "\n"
      ],
      "execution_count": 112,
      "outputs": []
    },
    {
      "cell_type": "code",
      "metadata": {
        "colab": {
          "base_uri": "https://localhost:8080/"
        },
        "id": "aWxP73CbE6Wb",
        "outputId": "4e748a81-0c55-48d0-86ae-8bf417ab109e"
      },
      "source": [
        "lenet.summary()"
      ],
      "execution_count": 113,
      "outputs": [
        {
          "output_type": "stream",
          "text": [
            "Model: \"sequential_8\"\n",
            "_________________________________________________________________\n",
            "Layer (type)                 Output Shape              Param #   \n",
            "=================================================================\n",
            "conv2d_9 (Conv2D)            (None, 21, 21, 2)         130       \n",
            "_________________________________________________________________\n",
            "average_pooling2d_9 (Average (None, 10, 10, 2)         0         \n",
            "_________________________________________________________________\n",
            "flatten_8 (Flatten)          (None, 200)               0         \n",
            "_________________________________________________________________\n",
            "dense_19 (Dense)             (None, 60)                12060     \n",
            "_________________________________________________________________\n",
            "dense_20 (Dense)             (None, 10)                610       \n",
            "=================================================================\n",
            "Total params: 12,800\n",
            "Trainable params: 12,800\n",
            "Non-trainable params: 0\n",
            "_________________________________________________________________\n"
          ],
          "name": "stdout"
        }
      ]
    },
    {
      "cell_type": "code",
      "metadata": {
        "id": "-TN2NDzCE6Wc"
      },
      "source": [
        "lenet.compile(loss=keras.losses.categorical_crossentropy, optimizer=keras.optimizers.Adam(), metrics=['accuracy'])"
      ],
      "execution_count": 114,
      "outputs": []
    },
    {
      "cell_type": "code",
      "metadata": {
        "id": "xDbqWiS_E6Wc"
      },
      "source": [
        "EPOCHS = 12\n",
        "BATCH_SIZE = 32"
      ],
      "execution_count": 115,
      "outputs": []
    },
    {
      "cell_type": "code",
      "metadata": {
        "colab": {
          "base_uri": "https://localhost:8080/"
        },
        "id": "OM9udi_zE6Wg",
        "outputId": "9f76bfe7-2c5d-4392-dd55-3a6df2f6312a"
      },
      "source": [
        "steps_per_epoch = x_train.shape[0]//BATCH_SIZE\n",
        "validation_steps = X_valid.shape[0]//BATCH_SIZE\n",
        "\n",
        "tensorboard = TensorBoard(log_dir=\"logs/{}\".format(time()))\n",
        "lenet.fit(x_train, y_train, steps_per_epoch=steps_per_epoch, epochs=EPOCHS, \n",
        "          validation_data=(X_valid,y_valid), validation_steps=validation_steps, \n",
        "                    shuffle=True, callbacks=[tensorboard])"
      ],
      "execution_count": 116,
      "outputs": [
        {
          "output_type": "stream",
          "text": [
            "Epoch 1/12\n",
            "1500/1500 [==============================] - 5s 3ms/step - loss: 0.5867 - accuracy: 0.8348 - val_loss: 0.1826 - val_accuracy: 0.9479\n",
            "Epoch 2/12\n",
            "1500/1500 [==============================] - 4s 3ms/step - loss: 0.1701 - accuracy: 0.9506 - val_loss: 0.1277 - val_accuracy: 0.9629\n",
            "Epoch 3/12\n",
            "1500/1500 [==============================] - 4s 3ms/step - loss: 0.1190 - accuracy: 0.9645 - val_loss: 0.1059 - val_accuracy: 0.9685\n",
            "Epoch 4/12\n",
            "1500/1500 [==============================] - 4s 3ms/step - loss: 0.0922 - accuracy: 0.9730 - val_loss: 0.0948 - val_accuracy: 0.9706\n",
            "Epoch 5/12\n",
            "1500/1500 [==============================] - 4s 3ms/step - loss: 0.0772 - accuracy: 0.9784 - val_loss: 0.0877 - val_accuracy: 0.9737\n",
            "Epoch 6/12\n",
            "1500/1500 [==============================] - 4s 3ms/step - loss: 0.0670 - accuracy: 0.9803 - val_loss: 0.0806 - val_accuracy: 0.9746\n",
            "Epoch 7/12\n",
            "1500/1500 [==============================] - 4s 3ms/step - loss: 0.0552 - accuracy: 0.9837 - val_loss: 0.0743 - val_accuracy: 0.9780\n",
            "Epoch 8/12\n",
            "1500/1500 [==============================] - 4s 3ms/step - loss: 0.0490 - accuracy: 0.9859 - val_loss: 0.0785 - val_accuracy: 0.9758\n",
            "Epoch 9/12\n",
            "1500/1500 [==============================] - 4s 3ms/step - loss: 0.0442 - accuracy: 0.9882 - val_loss: 0.0725 - val_accuracy: 0.9782\n",
            "Epoch 10/12\n",
            "1500/1500 [==============================] - 4s 3ms/step - loss: 0.0375 - accuracy: 0.9894 - val_loss: 0.0702 - val_accuracy: 0.9773\n",
            "Epoch 11/12\n",
            "1500/1500 [==============================] - 4s 2ms/step - loss: 0.0351 - accuracy: 0.9897 - val_loss: 0.0707 - val_accuracy: 0.9772\n",
            "Epoch 12/12\n",
            "1500/1500 [==============================] - 4s 3ms/step - loss: 0.0293 - accuracy: 0.9917 - val_loss: 0.0687 - val_accuracy: 0.9779\n"
          ],
          "name": "stdout"
        },
        {
          "output_type": "execute_result",
          "data": {
            "text/plain": [
              "<tensorflow.python.keras.callbacks.History at 0x7f432659c150>"
            ]
          },
          "metadata": {
            "tags": []
          },
          "execution_count": 116
        }
      ]
    },
    {
      "cell_type": "code",
      "metadata": {
        "colab": {
          "base_uri": "https://localhost:8080/"
        },
        "id": "hwXPW5PwE6Wi",
        "outputId": "333fd754-508c-4fdf-bb30-2d7e61a31191"
      },
      "source": [
        "score = lenet.evaluate(X_test, y_test)\n",
        "print('Test loss:', score[0])\n",
        "print('Test accuracy:', score[1])"
      ],
      "execution_count": 117,
      "outputs": [
        {
          "output_type": "stream",
          "text": [
            "313/313 [==============================] - 1s 2ms/step - loss: 0.0595 - accuracy: 0.9822\n",
            "Test loss: 0.05952044203877449\n",
            "Test accuracy: 0.982200026512146\n"
          ],
          "name": "stdout"
        }
      ]
    },
    {
      "cell_type": "code",
      "metadata": {
        "colab": {
          "base_uri": "https://localhost:8080/"
        },
        "id": "3g9BwNphE6Wi",
        "outputId": "7d112c90-82d9-4c9c-9e2c-34e5078cc447"
      },
      "source": [
        "print(\"Treino\")\n",
        "predictions = lenet.predict_classes(X_train)\n",
        "print(confusion_matrix(Y_train,predictions))\n",
        "print(classification_report(Y_train,predictions))\n",
        "\n",
        "print(\"Teste\")\n",
        "predictions = lenet.predict_classes(X_test)\n",
        "print(confusion_matrix(Y_test,predictions))\n",
        "print(classification_report(Y_test,predictions))"
      ],
      "execution_count": 118,
      "outputs": [
        {
          "output_type": "stream",
          "text": [
            "Treino\n"
          ],
          "name": "stdout"
        },
        {
          "output_type": "stream",
          "text": [
            "/usr/local/lib/python3.7/dist-packages/tensorflow/python/keras/engine/sequential.py:450: UserWarning: `model.predict_classes()` is deprecated and will be removed after 2021-01-01. Please use instead:* `np.argmax(model.predict(x), axis=-1)`,   if your model does multi-class classification   (e.g. if it uses a `softmax` last-layer activation).* `(model.predict(x) > 0.5).astype(\"int32\")`,   if your model does binary classification   (e.g. if it uses a `sigmoid` last-layer activation).\n",
            "  warnings.warn('`model.predict_classes()` is deprecated and '\n"
          ],
          "name": "stderr"
        },
        {
          "output_type": "stream",
          "text": [
            "[[5904    0    3    1    1    2    4    2    5    1]\n",
            " [   0 6697    6    4   10    1    4    6   12    2]\n",
            " [   9    4 5909    8    4    0    1   12    8    3]\n",
            " [   8    0   19 6026    0   36    0    7   18   17]\n",
            " [   1    3    4    0 5804    0    9    5    1   15]\n",
            " [   7    0    2    2    1 5380   13    1   10    5]\n",
            " [  10    1    2    0    7   11 5882    0    5    0]\n",
            " [   0   13   18    4    6    1    0 6206    2   15]\n",
            " [   8    8    9    6    2   19    9    2 5784    4]\n",
            " [   7    6    3    4   43    8    1   27   11 5839]]\n",
            "              precision    recall  f1-score   support\n",
            "\n",
            "           0       0.99      1.00      0.99      5923\n",
            "           1       0.99      0.99      0.99      6742\n",
            "           2       0.99      0.99      0.99      5958\n",
            "           3       1.00      0.98      0.99      6131\n",
            "           4       0.99      0.99      0.99      5842\n",
            "           5       0.99      0.99      0.99      5421\n",
            "           6       0.99      0.99      0.99      5918\n",
            "           7       0.99      0.99      0.99      6265\n",
            "           8       0.99      0.99      0.99      5851\n",
            "           9       0.99      0.98      0.99      5949\n",
            "\n",
            "    accuracy                           0.99     60000\n",
            "   macro avg       0.99      0.99      0.99     60000\n",
            "weighted avg       0.99      0.99      0.99     60000\n",
            "\n",
            "Teste\n",
            "[[ 968    0    1    0    1    1    3    2    2    2]\n",
            " [   0 1127    2    1    0    0    2    0    3    0]\n",
            " [   7    0 1008    4    1    0    0    5    5    2]\n",
            " [   0    0    2  991    0   10    0    2    3    2]\n",
            " [   2    0    3    0  971    0    1    0    1    4]\n",
            " [   4    0    0    4    0  879    3    2    0    0]\n",
            " [   6    1    0    0    4    5  941    0    1    0]\n",
            " [   0    2   13    2    3    0    0 1006    0    2]\n",
            " [   6    0    2    3    2    6    1    2  952    0]\n",
            " [   1    2    0    3   10    5    1    5    3  979]]\n",
            "              precision    recall  f1-score   support\n",
            "\n",
            "           0       0.97      0.99      0.98       980\n",
            "           1       1.00      0.99      0.99      1135\n",
            "           2       0.98      0.98      0.98      1032\n",
            "           3       0.98      0.98      0.98      1010\n",
            "           4       0.98      0.99      0.98       982\n",
            "           5       0.97      0.99      0.98       892\n",
            "           6       0.99      0.98      0.99       958\n",
            "           7       0.98      0.98      0.98      1028\n",
            "           8       0.98      0.98      0.98       974\n",
            "           9       0.99      0.97      0.98      1009\n",
            "\n",
            "    accuracy                           0.98     10000\n",
            "   macro avg       0.98      0.98      0.98     10000\n",
            "weighted avg       0.98      0.98      0.98     10000\n",
            "\n"
          ],
          "name": "stdout"
        }
      ]
    }
  ]
}