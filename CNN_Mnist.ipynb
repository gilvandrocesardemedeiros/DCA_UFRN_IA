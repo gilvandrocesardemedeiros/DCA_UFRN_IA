{
  "nbformat": 4,
  "nbformat_minor": 0,
  "metadata": {
    "colab": {
      "name": "CNN-Mnist.ipynb",
      "provenance": [],
      "collapsed_sections": [],
      "authorship_tag": "ABX9TyPOKtkb83kKEj6yZuJfWeRM",
      "include_colab_link": true
    },
    "kernelspec": {
      "name": "python3",
      "display_name": "Python 3"
    },
    "language_info": {
      "name": "python"
    },
    "accelerator": "GPU"
  },
  "cells": [
    {
      "cell_type": "markdown",
      "metadata": {
        "id": "view-in-github",
        "colab_type": "text"
      },
      "source": [
        "<a href=\"https://colab.research.google.com/github/gilvandrocesardemedeiros/DCA_UFRN_IA/blob/main/CNN_Mnist.ipynb\" target=\"_parent\"><img src=\"https://colab.research.google.com/assets/colab-badge.svg\" alt=\"Open In Colab\"/></a>"
      ]
    },
    {
      "cell_type": "markdown",
      "metadata": {
        "id": "_wKypsvaSebI"
      },
      "source": [
        "AVISO PROS CODERS DE PLANTÃO\n",
        "\n",
        "Eu tava meio de saco cheio quando fiz isso a um tempo, aí tem uns nomes de corno pra variaveis\n",
        "\n",
        "X_train é diferente de x_train\n",
        "Y_train é diferente de y_train\n",
        "\n",
        "e o mesmo vale pro teste\n"
      ]
    },
    {
      "cell_type": "code",
      "metadata": {
        "id": "mnGM2Ig37njQ"
      },
      "source": [
        "import keras\n",
        "from keras.datasets import mnist\n",
        "import numpy as np"
      ],
      "execution_count": 103,
      "outputs": []
    },
    {
      "cell_type": "code",
      "metadata": {
        "id": "ioIeAFbK8jg5"
      },
      "source": [
        "#load mnist dataset\n",
        "(X_train, Y_train), (X_test, Y_test) = mnist.load_data() #everytime loading data won't be so easy :)"
      ],
      "execution_count": 104,
      "outputs": []
    },
    {
      "cell_type": "code",
      "metadata": {
        "colab": {
          "base_uri": "https://localhost:8080/"
        },
        "id": "VfpMm8ROGQMY",
        "outputId": "fc3e07c9-cda8-48e5-ab0d-ab30a0f443a6"
      },
      "source": [
        "from collections import Counter\n",
        "Counter(Y_test)"
      ],
      "execution_count": 105,
      "outputs": [
        {
          "output_type": "execute_result",
          "data": {
            "text/plain": [
              "Counter({0: 980,\n",
              "         1: 1135,\n",
              "         2: 1032,\n",
              "         3: 1010,\n",
              "         4: 982,\n",
              "         5: 892,\n",
              "         6: 958,\n",
              "         7: 1028,\n",
              "         8: 974,\n",
              "         9: 1009})"
            ]
          },
          "metadata": {
            "tags": []
          },
          "execution_count": 105
        }
      ]
    },
    {
      "cell_type": "code",
      "metadata": {
        "colab": {
          "base_uri": "https://localhost:8080/",
          "height": 551
        },
        "id": "I86UlcJs8gew",
        "outputId": "9553eac4-3e0f-4bf7-e79d-4ccb823080d6"
      },
      "source": [
        "import matplotlib.pyplot as plt\n",
        "fig = plt.figure()\n",
        "for i in range(9):\n",
        "  plt.subplot(3,3,i+1)\n",
        "  plt.tight_layout()\n",
        "  plt.imshow(X_train[i], cmap='gray', interpolation='none')\n",
        "  plt.title(\"Digit: {}\".format(Y_train[i]))\n",
        "  plt.xticks([])\n",
        "  plt.yticks([])\n",
        "fig"
      ],
      "execution_count": 106,
      "outputs": [
        {
          "output_type": "execute_result",
          "data": {
            "image/png": "[encoded data removed]",
            "text/plain": [
              "<Figure size 432x288 with 9 Axes>"
            ]
          },
          "metadata": {
            "tags": []
          },
          "execution_count": 106
        },
        {
          "output_type": "display_data",
          "data": {
            "image/png": "[encoded data removed]",
            "text/plain": [
              "<Figure size 432x288 with 9 Axes>"
            ]
          },
          "metadata": {
            "tags": []
          }
        }
      ]
    },
    {
      "cell_type": "code",
      "metadata": {
        "colab": {
          "base_uri": "https://localhost:8080/"
        },
        "id": "hr2DOOZy9ebz",
        "outputId": "8e8d4221-03d9-42de-9340-700d989c66cf"
      },
      "source": [
        "X_train = X_train.astype('float32')\n",
        "X_test = X_test.astype('float32')\n",
        "X_train /= 255\n",
        "X_test /= 255\n",
        "print('X_train shape:', X_train.shape)\n",
        "print('X_train shape:', X_train.shape)  #X_train shape: (60000, 28, 28, 1)"
      ],
      "execution_count": 107,
      "outputs": [
        {
          "output_type": "stream",
          "text": [
            "X_train shape: (60000, 28, 28)\n",
            "X_train shape: (60000, 28, 28)\n"
          ],
          "name": "stdout"
        }
      ]
    },
    {
      "cell_type": "code",
      "metadata": {
        "id": "4C237yCh9olC"
      },
      "source": [
        "import keras\n",
        "#set number of categories\n",
        "num_category = 10\n",
        "# convert class vectors to binary class matrices\n",
        "y_train = keras.utils.to_categorical(Y_train, num_category)\n",
        "y_test = keras.utils.to_categorical(Y_test, num_category)"
      ],
      "execution_count": 108,
      "outputs": []
    },
    {
      "cell_type": "code",
      "metadata": {
        "id": "FWam63eH9vcy"
      },
      "source": [
        "from keras.models import Sequential\n",
        "from keras.layers import Dense, Dropout, Flatten\n",
        "from keras.layers import Conv2D, MaxPooling2D\n",
        "from keras.callbacks import TensorBoard\n",
        "from time import time\n",
        "from sklearn.metrics import classification_report, confusion_matrix, accuracy_score\n",
        "from sklearn.model_selection import train_test_split"
      ],
      "execution_count": 109,
      "outputs": []
    },
    {
      "cell_type": "code",
      "metadata": {
        "colab": {
          "base_uri": "https://localhost:8080/"
        },
        "id": "o1CYQow6_XYN",
        "outputId": "94128595-e150-4863-a3f6-8b2bd300a19f"
      },
      "source": [
        "X_train = np.reshape(X_train,(60000,28,28,1))\n",
        "X_test = np.reshape(X_test,(10000,28,28,1))\n",
        "print('X_train shape:', X_train.shape)\n",
        "print('X_train shape:', X_test.shape)  #X_train shape: (60000, 28, 28, 1)"
      ],
      "execution_count": 111,
      "outputs": [
        {
          "output_type": "stream",
          "text": [
            "X_train shape: (60000, 28, 28, 1)\n",
            "X_train shape: (10000, 28, 28, 1)\n"
          ],
          "name": "stdout"
        }
      ]
    },
    {
      "cell_type": "code",
      "metadata": {
        "id": "wrZJwS7wz5K_"
      },
      "source": [
        "x_train, X_valid, y_train, y_valid = train_test_split(X_train, y_train, test_size=0.2, random_state=0)"
      ],
      "execution_count": 112,
      "outputs": []
    },
    {
      "cell_type": "code",
      "metadata": {
        "id": "C5jtwyPLuUS5"
      },
      "source": [
        "lenet = Sequential()\n",
        "\n",
        "#layer 1: C1\n",
        "lenet.add(keras.layers.Conv2D( filters = 6,\n",
        "                         kernel_size = (5,5),\n",
        "                         strides = 1,\n",
        "                         padding = \"same\",\n",
        "                         activation = 'tanh',\n",
        "                         input_shape=(28,28,1)))\n",
        "\n",
        "#layer 2: pool\n",
        "\n",
        "lenet.add(keras.layers.AveragePooling2D(pool_size = (2,2),\n",
        "                                 strides = (2,2),\n",
        "                                 padding = 'valid'))\n",
        "\n",
        "#layer 3: C2\n",
        "\n",
        "lenet.add(keras.layers.Conv2D( filters = 16,\n",
        "                         kernel_size = (5,5),\n",
        "                         strides = (1,1),\n",
        "                         padding = \"valid\",\n",
        "                         activation = 'tanh'))\n",
        "\n",
        "#layer 4: pool\n",
        "\n",
        "lenet.add(keras.layers.AveragePooling2D(pool_size = (2,2),\n",
        "                                 strides = (2,2),\n",
        "                                 padding = 'valid'))\n",
        "\n",
        "#layer 5 : flatten\n",
        "\n",
        "lenet.add(Flatten())\n",
        "\n",
        "#layer 6: FC\n",
        "\n",
        "lenet.add(keras.layers.Dense(units = 120, \n",
        "                             activation = 'tanh'))\n",
        "\n",
        "lenet.add(keras.layers.Dense(units = 84, \n",
        "                             activation = 'tanh'))\n",
        "\n",
        "lenet.add(keras.layers.Dense(units = 10, \n",
        "                             activation = 'softmax'))\n",
        "\n"
      ],
      "execution_count": 113,
      "outputs": []
    },
    {
      "cell_type": "code",
      "metadata": {
        "colab": {
          "base_uri": "https://localhost:8080/"
        },
        "id": "zUNmD84pya99",
        "outputId": "33fb31eb-66e7-4216-e9ec-22eef539ffb5"
      },
      "source": [
        "lenet.summary()"
      ],
      "execution_count": 114,
      "outputs": [
        {
          "output_type": "stream",
          "text": [
            "Model: \"sequential_6\"\n",
            "_________________________________________________________________\n",
            "Layer (type)                 Output Shape              Param #   \n",
            "=================================================================\n",
            "conv2d_11 (Conv2D)           (None, 28, 28, 6)         156       \n",
            "_________________________________________________________________\n",
            "average_pooling2d_11 (Averag (None, 14, 14, 6)         0         \n",
            "_________________________________________________________________\n",
            "conv2d_12 (Conv2D)           (None, 10, 10, 16)        2416      \n",
            "_________________________________________________________________\n",
            "average_pooling2d_12 (Averag (None, 5, 5, 16)          0         \n",
            "_________________________________________________________________\n",
            "flatten_6 (Flatten)          (None, 400)               0         \n",
            "_________________________________________________________________\n",
            "dense_18 (Dense)             (None, 120)               48120     \n",
            "_________________________________________________________________\n",
            "dense_19 (Dense)             (None, 84)                10164     \n",
            "_________________________________________________________________\n",
            "dense_20 (Dense)             (None, 10)                850       \n",
            "=================================================================\n",
            "Total params: 61,706\n",
            "Trainable params: 61,706\n",
            "Non-trainable params: 0\n",
            "_________________________________________________________________\n"
          ],
          "name": "stdout"
        }
      ]
    },
    {
      "cell_type": "code",
      "metadata": {
        "id": "_JfO3t5Jw2fF"
      },
      "source": [
        "lenet.compile(loss=keras.losses.categorical_crossentropy, optimizer=keras.optimizers.Adam(), metrics=['accuracy'])"
      ],
      "execution_count": 115,
      "outputs": []
    },
    {
      "cell_type": "code",
      "metadata": {
        "id": "Kc8vRRLVzQsS"
      },
      "source": [
        "EPOCHS = 12\n",
        "BATCH_SIZE = 32"
      ],
      "execution_count": 116,
      "outputs": []
    },
    {
      "cell_type": "code",
      "metadata": {
        "colab": {
          "base_uri": "https://localhost:8080/"
        },
        "id": "SdfvFELS1z3-",
        "outputId": "864434aa-04c8-4979-a7c6-0b3cb0595b9e"
      },
      "source": [
        "steps_per_epoch = x_train.shape[0]//BATCH_SIZE\n",
        "validation_steps = X_valid.shape[0]//BATCH_SIZE\n",
        "\n",
        "tensorboard = TensorBoard(log_dir=\"logs/{}\".format(time()))\n",
        "lenet.fit(x_train, y_train, steps_per_epoch=steps_per_epoch, epochs=EPOCHS, \n",
        "          validation_data=(X_valid,y_valid), validation_steps=validation_steps, \n",
        "                    shuffle=True, callbacks=[tensorboard])"
      ],
      "execution_count": 117,
      "outputs": [
        {
          "output_type": "stream",
          "text": [
            "Epoch 1/12\n",
            "1500/1500 [==============================] - 6s 4ms/step - loss: 0.4693 - accuracy: 0.8558 - val_loss: 0.1347 - val_accuracy: 0.9588\n",
            "Epoch 2/12\n",
            "1500/1500 [==============================] - 5s 3ms/step - loss: 0.1157 - accuracy: 0.9643 - val_loss: 0.0884 - val_accuracy: 0.9717\n",
            "Epoch 3/12\n",
            "1500/1500 [==============================] - 5s 3ms/step - loss: 0.0710 - accuracy: 0.9774 - val_loss: 0.0738 - val_accuracy: 0.9775\n",
            "Epoch 4/12\n",
            "1500/1500 [==============================] - 5s 3ms/step - loss: 0.0504 - accuracy: 0.9841 - val_loss: 0.0642 - val_accuracy: 0.9805\n",
            "Epoch 5/12\n",
            "1500/1500 [==============================] - 5s 3ms/step - loss: 0.0406 - accuracy: 0.9863 - val_loss: 0.0586 - val_accuracy: 0.9818\n",
            "Epoch 6/12\n",
            "1500/1500 [==============================] - 5s 3ms/step - loss: 0.0315 - accuracy: 0.9903 - val_loss: 0.0663 - val_accuracy: 0.9794\n",
            "Epoch 7/12\n",
            "1500/1500 [==============================] - 5s 3ms/step - loss: 0.0265 - accuracy: 0.9917 - val_loss: 0.0570 - val_accuracy: 0.9841\n",
            "Epoch 8/12\n",
            "1500/1500 [==============================] - 5s 3ms/step - loss: 0.0212 - accuracy: 0.9936 - val_loss: 0.0529 - val_accuracy: 0.9856\n",
            "Epoch 9/12\n",
            "1500/1500 [==============================] - 5s 3ms/step - loss: 0.0188 - accuracy: 0.9941 - val_loss: 0.0540 - val_accuracy: 0.9846\n",
            "Epoch 10/12\n",
            "1500/1500 [==============================] - 5s 3ms/step - loss: 0.0172 - accuracy: 0.9944 - val_loss: 0.0526 - val_accuracy: 0.9845\n",
            "Epoch 11/12\n",
            "1500/1500 [==============================] - 5s 3ms/step - loss: 0.0129 - accuracy: 0.9955 - val_loss: 0.0599 - val_accuracy: 0.9833\n",
            "Epoch 12/12\n",
            "1500/1500 [==============================] - 5s 3ms/step - loss: 0.0128 - accuracy: 0.9961 - val_loss: 0.0577 - val_accuracy: 0.9843\n"
          ],
          "name": "stdout"
        },
        {
          "output_type": "execute_result",
          "data": {
            "text/plain": [
              "<tensorflow.python.keras.callbacks.History at 0x7f446001a350>"
            ]
          },
          "metadata": {
            "tags": []
          },
          "execution_count": 117
        }
      ]
    },
    {
      "cell_type": "code",
      "metadata": {
        "colab": {
          "base_uri": "https://localhost:8080/"
        },
        "id": "V49b80iR4ZjY",
        "outputId": "2221cb6f-d743-4d1e-c703-39e968c7f1ec"
      },
      "source": [
        "score = lenet.evaluate(X_test, y_test)\n",
        "print('Test loss:', score[0])\n",
        "print('Test accuracy:', score[1])"
      ],
      "execution_count": 118,
      "outputs": [
        {
          "output_type": "stream",
          "text": [
            "313/313 [==============================] - 1s 3ms/step - loss: 0.0526 - accuracy: 0.9849\n",
            "Test loss: 0.0526161789894104\n",
            "Test accuracy: 0.9848999977111816\n"
          ],
          "name": "stdout"
        }
      ]
    },
    {
      "cell_type": "code",
      "metadata": {
        "colab": {
          "base_uri": "https://localhost:8080/"
        },
        "id": "J95q-9nnILiJ",
        "outputId": "bc95ca03-f616-40ae-f7f7-2f0af15f2e4b"
      },
      "source": [
        "print(\"Treino\")\n",
        "predictions = lenet.predict_classes(X_train)\n",
        "print(confusion_matrix(Y_train,predictions))\n",
        "print(classification_report(Y_train,predictions))\n",
        "\n",
        "print(\"Teste\")\n",
        "predictions = lenet.predict_classes(X_test)\n",
        "print(confusion_matrix(Y_test,predictions))\n",
        "print(classification_report(Y_test,predictions))"
      ],
      "execution_count": 119,
      "outputs": [
        {
          "output_type": "stream",
          "text": [
            "Treino\n"
          ],
          "name": "stdout"
        },
        {
          "output_type": "stream",
          "text": [
            "/usr/local/lib/python3.7/dist-packages/tensorflow/python/keras/engine/sequential.py:450: UserWarning: `model.predict_classes()` is deprecated and will be removed after 2021-01-01. Please use instead:* `np.argmax(model.predict(x), axis=-1)`,   if your model does multi-class classification   (e.g. if it uses a `softmax` last-layer activation).* `(model.predict(x) > 0.5).astype(\"int32\")`,   if your model does binary classification   (e.g. if it uses a `sigmoid` last-layer activation).\n",
            "  warnings.warn('`model.predict_classes()` is deprecated and '\n"
          ],
          "name": "stderr"
        },
        {
          "output_type": "stream",
          "text": [
            "[[5916    0    3    0    0    1    1    0    2    0]\n",
            " [   0 6706    7    4    4    1    2    6   11    1]\n",
            " [   0    1 5939    7    0    0    0    5    6    0]\n",
            " [   1    0   14 6095    0    3    0    2   15    1]\n",
            " [   0    3    3    0 5805    1    2    3    1   24]\n",
            " [   6    0    3   26    0 5372    5    1    6    2]\n",
            " [   6    1    2    0    5   31 5870    0    3    0]\n",
            " [   0    7    9   11    3    2    0 6194    4   35]\n",
            " [   0    2    7    4    0    4    2    1 5831    0]\n",
            " [   3    2    1    3    9    2    0    3    4 5922]]\n",
            "              precision    recall  f1-score   support\n",
            "\n",
            "           0       1.00      1.00      1.00      5923\n",
            "           1       1.00      0.99      1.00      6742\n",
            "           2       0.99      1.00      0.99      5958\n",
            "           3       0.99      0.99      0.99      6131\n",
            "           4       1.00      0.99      1.00      5842\n",
            "           5       0.99      0.99      0.99      5421\n",
            "           6       1.00      0.99      0.99      5918\n",
            "           7       1.00      0.99      0.99      6265\n",
            "           8       0.99      1.00      0.99      5851\n",
            "           9       0.99      1.00      0.99      5949\n",
            "\n",
            "    accuracy                           0.99     60000\n",
            "   macro avg       0.99      0.99      0.99     60000\n",
            "weighted avg       0.99      0.99      0.99     60000\n",
            "\n",
            "Teste\n",
            "[[ 974    0    0    0    0    0    1    0    3    2]\n",
            " [   0 1124    0    2    1    2    2    1    3    0]\n",
            " [   3    0 1025    1    0    0    0    1    2    0]\n",
            " [   0    0    1 1000    0    4    0    1    3    1]\n",
            " [   0    0    3    0  966    0    4    0    0    9]\n",
            " [   2    0    0   10    0  872    1    4    2    1]\n",
            " [   5    3    0    0    5    7  933    0    4    1]\n",
            " [   0    3    7    2    0    0    0 1005    2    9]\n",
            " [   2    0    2    2    1    1    0    1  964    1]\n",
            " [   3    2    0    1    6    4    0    2    5  986]]\n",
            "              precision    recall  f1-score   support\n",
            "\n",
            "           0       0.98      0.99      0.99       980\n",
            "           1       0.99      0.99      0.99      1135\n",
            "           2       0.99      0.99      0.99      1032\n",
            "           3       0.98      0.99      0.99      1010\n",
            "           4       0.99      0.98      0.99       982\n",
            "           5       0.98      0.98      0.98       892\n",
            "           6       0.99      0.97      0.98       958\n",
            "           7       0.99      0.98      0.98      1028\n",
            "           8       0.98      0.99      0.98       974\n",
            "           9       0.98      0.98      0.98      1009\n",
            "\n",
            "    accuracy                           0.98     10000\n",
            "   macro avg       0.98      0.98      0.98     10000\n",
            "weighted avg       0.98      0.98      0.98     10000\n",
            "\n"
          ],
          "name": "stdout"
        }
      ]
    },
    {
      "cell_type": "code",
      "metadata": {
        "id": "jgRzmRgqE5xb"
      },
      "source": [
        ""
      ],
      "execution_count": 119,
      "outputs": []
    },
    {
      "cell_type": "code",
      "metadata": {
        "id": "K-uhOHy9E6GH"
      },
      "source": [
        "#Parte para fazer testes e etc"
      ],
      "execution_count": 119,
      "outputs": []
    },
    {
      "cell_type": "code",
      "metadata": {
        "id": "NgJxODYnE6WS"
      },
      "source": [
        "#load mnist dataset\n",
        "(X_train, Y_train), (X_test, Y_test) = mnist.load_data() "
      ],
      "execution_count": 120,
      "outputs": []
    },
    {
      "cell_type": "code",
      "metadata": {
        "id": "2ufM4gvvE-oW"
      },
      "source": [
        "Y_train = Y_train % 3\n",
        "Y_test = Y_test % 3"
      ],
      "execution_count": 121,
      "outputs": []
    },
    {
      "cell_type": "code",
      "metadata": {
        "colab": {
          "base_uri": "https://localhost:8080/"
        },
        "id": "Tj19HXmPGWeo",
        "outputId": "30dc07f9-1469-44bf-999f-69ee5d0448db"
      },
      "source": [
        "Counter(Y_train)"
      ],
      "execution_count": 122,
      "outputs": [
        {
          "output_type": "execute_result",
          "data": {
            "text/plain": [
              "Counter({0: 23921, 1: 18849, 2: 17230})"
            ]
          },
          "metadata": {
            "tags": []
          },
          "execution_count": 122
        }
      ]
    },
    {
      "cell_type": "code",
      "metadata": {
        "colab": {
          "base_uri": "https://localhost:8080/"
        },
        "id": "otWxct7yGZJa",
        "outputId": "7742a455-b5d6-4e29-ace2-179353955e0e"
      },
      "source": [
        "Counter(Y_test)"
      ],
      "execution_count": 123,
      "outputs": [
        {
          "output_type": "execute_result",
          "data": {
            "text/plain": [
              "Counter({0: 3957, 1: 3145, 2: 2898})"
            ]
          },
          "metadata": {
            "tags": []
          },
          "execution_count": 123
        }
      ]
    },
    {
      "cell_type": "code",
      "metadata": {
        "colab": {
          "base_uri": "https://localhost:8080/"
        },
        "id": "2N8kMrIwFbjd",
        "outputId": "33e39cb6-4ec8-45e6-8067-5983211bcddd"
      },
      "source": [
        "Y_test"
      ],
      "execution_count": 124,
      "outputs": [
        {
          "output_type": "execute_result",
          "data": {
            "text/plain": [
              "array([1, 2, 1, ..., 1, 2, 0], dtype=uint8)"
            ]
          },
          "metadata": {
            "tags": []
          },
          "execution_count": 124
        }
      ]
    },
    {
      "cell_type": "code",
      "metadata": {
        "colab": {
          "base_uri": "https://localhost:8080/"
        },
        "id": "Q6dV0Xv9E6WW",
        "outputId": "8bcd30b6-0b86-4286-e4ba-b10c9ddf19a5"
      },
      "source": [
        "X_train = X_train.astype('float32')\n",
        "X_test = X_test.astype('float32')\n",
        "X_train /= 255\n",
        "X_test /= 255"
      ],
      "execution_count": 125,
      "outputs": [
        {
          "output_type": "stream",
          "text": [
            "X_train shape: (60000, 28, 28)\n",
            "X_train shape: (60000, 28, 28)\n"
          ],
          "name": "stdout"
        }
      ]
    },
    {
      "cell_type": "code",
      "metadata": {
        "colab": {
          "base_uri": "https://localhost:8080/"
        },
        "id": "Mvp1wAYBE6WX",
        "outputId": "d123bcda-244d-4c07-f5f3-f841dfc0f143"
      },
      "source": [
        "X_train = np.reshape(X_train,(60000,28,28,1))\n",
        "X_test = np.reshape(X_test,(10000,28,28,1))"
      ],
      "execution_count": 126,
      "outputs": [
        {
          "output_type": "stream",
          "text": [
            "X_train shape: (60000, 28, 28, 1)\n",
            "X_train shape: (10000, 28, 28, 1)\n"
          ],
          "name": "stdout"
        }
      ]
    },
    {
      "cell_type": "code",
      "metadata": {
        "id": "k9NklSTvE6WY"
      },
      "source": [
        "#set number of categories\n",
        "num_category = 3\n",
        "# convert class vectors to binary class matrices\n",
        "y_train = keras.utils.to_categorical(Y_train, num_category)\n",
        "y_test = keras.utils.to_categorical(Y_test, num_category)"
      ],
      "execution_count": 127,
      "outputs": []
    },
    {
      "cell_type": "code",
      "metadata": {
        "id": "lgbFyE7aE6Wg"
      },
      "source": [
        "x_train, X_valid, y_train, y_valid = train_test_split(X_train, y_train, test_size=0.2, random_state=0)"
      ],
      "execution_count": 128,
      "outputs": []
    },
    {
      "cell_type": "code",
      "metadata": {
        "id": "s_18K3ECE6Wa"
      },
      "source": [
        "lenet = Sequential()\n",
        "\n",
        "#layer 1: C1\n",
        "lenet.add(keras.layers.Conv2D( filters = 6,\n",
        "                         kernel_size = (5,5),\n",
        "                         strides = 1,\n",
        "                         padding = \"valid\",\n",
        "                         activation = 'tanh',\n",
        "                         input_shape=(28,28,1)))\n",
        "\n",
        "#layer 2: pool\n",
        "\n",
        "lenet.add(keras.layers.AveragePooling2D(pool_size = (2,2),\n",
        "                                 strides = (2,2),\n",
        "                                 padding = 'valid'))\n",
        "'''\n",
        "#layer 3: C2\n",
        "\n",
        "lenet.add(keras.layers.Conv2D( filters = 16,\n",
        "                         kernel_size = (5,5),\n",
        "                         strides = (1,1),\n",
        "                         padding = \"valid\",\n",
        "                         activation = 'tanh'))\n",
        "\n",
        "#layer 4: pool\n",
        "\n",
        "lenet.add(keras.layers.AveragePooling2D(pool_size = (2,2),\n",
        "                                 strides = (2,2),\n",
        "                                 padding = 'valid'))\n",
        "'''\n",
        "#layer 5 : flatten\n",
        "\n",
        "lenet.add(Flatten())\n",
        "\n",
        "#layer 6: FC\n",
        "\n",
        "lenet.add(keras.layers.Dense(units = 120, \n",
        "                             activation = 'tanh'))\n",
        "\n",
        "lenet.add(keras.layers.Dense(units = 84, \n",
        "                             activation = 'tanh'))\n",
        "\n",
        "lenet.add(keras.layers.Dense(units = 3, \n",
        "                             activation = 'softmax'))\n",
        "\n"
      ],
      "execution_count": 130,
      "outputs": []
    },
    {
      "cell_type": "code",
      "metadata": {
        "colab": {
          "base_uri": "https://localhost:8080/"
        },
        "id": "aWxP73CbE6Wb",
        "outputId": "6faffdea-a4f6-4fe3-83d4-5a3490b55b5f"
      },
      "source": [
        "lenet.summary()"
      ],
      "execution_count": 131,
      "outputs": [
        {
          "output_type": "stream",
          "text": [
            "Model: \"sequential_7\"\n",
            "_________________________________________________________________\n",
            "Layer (type)                 Output Shape              Param #   \n",
            "=================================================================\n",
            "conv2d_13 (Conv2D)           (None, 24, 24, 6)         156       \n",
            "_________________________________________________________________\n",
            "average_pooling2d_13 (Averag (None, 12, 12, 6)         0         \n",
            "_________________________________________________________________\n",
            "flatten_7 (Flatten)          (None, 864)               0         \n",
            "_________________________________________________________________\n",
            "dense_21 (Dense)             (None, 120)               103800    \n",
            "_________________________________________________________________\n",
            "dense_22 (Dense)             (None, 84)                10164     \n",
            "_________________________________________________________________\n",
            "dense_23 (Dense)             (None, 3)                 255       \n",
            "=================================================================\n",
            "Total params: 114,375\n",
            "Trainable params: 114,375\n",
            "Non-trainable params: 0\n",
            "_________________________________________________________________\n"
          ],
          "name": "stdout"
        }
      ]
    },
    {
      "cell_type": "code",
      "metadata": {
        "id": "-TN2NDzCE6Wc"
      },
      "source": [
        "lenet.compile(loss=keras.losses.categorical_crossentropy, optimizer=keras.optimizers.Adam(), metrics=['accuracy'])"
      ],
      "execution_count": 132,
      "outputs": []
    },
    {
      "cell_type": "code",
      "metadata": {
        "id": "xDbqWiS_E6Wc"
      },
      "source": [
        "EPOCHS = 12\n",
        "BATCH_SIZE = 32"
      ],
      "execution_count": 133,
      "outputs": []
    },
    {
      "cell_type": "code",
      "metadata": {
        "colab": {
          "base_uri": "https://localhost:8080/"
        },
        "id": "OM9udi_zE6Wg",
        "outputId": "76e468c0-8adf-466d-a79b-a982d1675577"
      },
      "source": [
        "steps_per_epoch = x_train.shape[0]//BATCH_SIZE\n",
        "validation_steps = X_valid.shape[0]//BATCH_SIZE\n",
        "\n",
        "tensorboard = TensorBoard(log_dir=\"logs/{}\".format(time()))\n",
        "lenet.fit(x_train, y_train, steps_per_epoch=steps_per_epoch, epochs=EPOCHS, \n",
        "          validation_data=(X_valid,y_valid), validation_steps=validation_steps, \n",
        "                    shuffle=True, callbacks=[tensorboard])"
      ],
      "execution_count": 134,
      "outputs": [
        {
          "output_type": "stream",
          "text": [
            "Epoch 1/12\n",
            "1500/1500 [==============================] - 5s 3ms/step - loss: 0.3555 - accuracy: 0.8595 - val_loss: 0.1103 - val_accuracy: 0.9614\n",
            "Epoch 2/12\n",
            "1500/1500 [==============================] - 4s 3ms/step - loss: 0.0891 - accuracy: 0.9688 - val_loss: 0.0906 - val_accuracy: 0.9708\n",
            "Epoch 3/12\n",
            "1500/1500 [==============================] - 4s 3ms/step - loss: 0.0578 - accuracy: 0.9795 - val_loss: 0.0711 - val_accuracy: 0.9759\n",
            "Epoch 4/12\n",
            "1500/1500 [==============================] - 4s 3ms/step - loss: 0.0402 - accuracy: 0.9863 - val_loss: 0.0710 - val_accuracy: 0.9766\n",
            "Epoch 5/12\n",
            "1500/1500 [==============================] - 4s 3ms/step - loss: 0.0296 - accuracy: 0.9899 - val_loss: 0.0689 - val_accuracy: 0.9792\n",
            "Epoch 6/12\n",
            "1500/1500 [==============================] - 4s 3ms/step - loss: 0.0234 - accuracy: 0.9923 - val_loss: 0.0737 - val_accuracy: 0.9766\n",
            "Epoch 7/12\n",
            "1500/1500 [==============================] - 4s 3ms/step - loss: 0.0229 - accuracy: 0.9922 - val_loss: 0.0636 - val_accuracy: 0.9821\n",
            "Epoch 8/12\n",
            "1500/1500 [==============================] - 4s 3ms/step - loss: 0.0157 - accuracy: 0.9949 - val_loss: 0.0829 - val_accuracy: 0.9758\n",
            "Epoch 9/12\n",
            "1500/1500 [==============================] - 4s 3ms/step - loss: 0.0127 - accuracy: 0.9963 - val_loss: 0.0670 - val_accuracy: 0.9811\n",
            "Epoch 10/12\n",
            "1500/1500 [==============================] - 4s 3ms/step - loss: 0.0137 - accuracy: 0.9956 - val_loss: 0.0636 - val_accuracy: 0.9818\n",
            "Epoch 11/12\n",
            "1500/1500 [==============================] - 4s 3ms/step - loss: 0.0105 - accuracy: 0.9965 - val_loss: 0.0792 - val_accuracy: 0.9789\n",
            "Epoch 12/12\n",
            "1500/1500 [==============================] - 4s 3ms/step - loss: 0.0125 - accuracy: 0.9954 - val_loss: 0.0728 - val_accuracy: 0.9803\n"
          ],
          "name": "stdout"
        },
        {
          "output_type": "execute_result",
          "data": {
            "text/plain": [
              "<tensorflow.python.keras.callbacks.History at 0x7f44443eb310>"
            ]
          },
          "metadata": {
            "tags": []
          },
          "execution_count": 134
        }
      ]
    },
    {
      "cell_type": "code",
      "metadata": {
        "colab": {
          "base_uri": "https://localhost:8080/"
        },
        "id": "hwXPW5PwE6Wi",
        "outputId": "069e0953-6e9b-43da-822f-f171d65e25af"
      },
      "source": [
        "score = lenet.evaluate(X_test, y_test)\n",
        "print('Test loss:', score[0])\n",
        "print('Test accuracy:', score[1])"
      ],
      "execution_count": 135,
      "outputs": [
        {
          "output_type": "stream",
          "text": [
            "313/313 [==============================] - 1s 3ms/step - loss: 0.0850 - accuracy: 0.9795\n",
            "Test loss: 0.08496392518281937\n",
            "Test accuracy: 0.9794999957084656\n"
          ],
          "name": "stdout"
        }
      ]
    },
    {
      "cell_type": "code",
      "metadata": {
        "colab": {
          "base_uri": "https://localhost:8080/"
        },
        "id": "3g9BwNphE6Wi",
        "outputId": "304d9b75-ad23-4250-fb79-af16551cda35"
      },
      "source": [
        "print(\"Treino\")\n",
        "predictions = lenet.predict_classes(X_train)\n",
        "print(confusion_matrix(Y_train,predictions))\n",
        "print(classification_report(Y_train,predictions))\n",
        "\n",
        "print(\"Teste\")\n",
        "predictions = lenet.predict_classes(X_test)\n",
        "print(confusion_matrix(Y_test,predictions))\n",
        "print(classification_report(Y_test,predictions))"
      ],
      "execution_count": 136,
      "outputs": [
        {
          "output_type": "stream",
          "text": [
            "Treino\n"
          ],
          "name": "stdout"
        },
        {
          "output_type": "stream",
          "text": [
            "/usr/local/lib/python3.7/dist-packages/tensorflow/python/keras/engine/sequential.py:450: UserWarning: `model.predict_classes()` is deprecated and will be removed after 2021-01-01. Please use instead:* `np.argmax(model.predict(x), axis=-1)`,   if your model does multi-class classification   (e.g. if it uses a `softmax` last-layer activation).* `(model.predict(x) > 0.5).astype(\"int32\")`,   if your model does binary classification   (e.g. if it uses a `sigmoid` last-layer activation).\n",
            "  warnings.warn('`model.predict_classes()` is deprecated and '\n"
          ],
          "name": "stderr"
        },
        {
          "output_type": "stream",
          "text": [
            "[[23791    70    60]\n",
            " [   46 18785    18]\n",
            " [  171    51 17008]]\n",
            "              precision    recall  f1-score   support\n",
            "\n",
            "           0       0.99      0.99      0.99     23921\n",
            "           1       0.99      1.00      1.00     18849\n",
            "           2       1.00      0.99      0.99     17230\n",
            "\n",
            "    accuracy                           0.99     60000\n",
            "   macro avg       0.99      0.99      0.99     60000\n",
            "weighted avg       0.99      0.99      0.99     60000\n",
            "\n",
            "Teste\n",
            "[[3898   35   24]\n",
            " [  27 3106   12]\n",
            " [  90   17 2791]]\n",
            "              precision    recall  f1-score   support\n",
            "\n",
            "           0       0.97      0.99      0.98      3957\n",
            "           1       0.98      0.99      0.99      3145\n",
            "           2       0.99      0.96      0.98      2898\n",
            "\n",
            "    accuracy                           0.98     10000\n",
            "   macro avg       0.98      0.98      0.98     10000\n",
            "weighted avg       0.98      0.98      0.98     10000\n",
            "\n"
          ],
          "name": "stdout"
        }
      ]
    }
  ]
}