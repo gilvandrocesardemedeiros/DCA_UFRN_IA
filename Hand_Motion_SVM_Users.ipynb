{
  "nbformat": 4,
  "nbformat_minor": 0,
  "metadata": {
    "colab": {
      "name": "Hand_Motion_SVM.ipynb",
      "provenance": [],
      "authorship_tag": "ABX9TyPgZpyDpIJ0DGzD8N7lsdK/",
      "include_colab_link": true
    },
    "kernelspec": {
      "name": "python3",
      "display_name": "Python 3"
    }
  },
  "cells": [
    {
      "cell_type": "markdown",
      "metadata": {
        "id": "view-in-github",
        "colab_type": "text"
      },
      "source": [
        "<a href=\"https://colab.research.google.com/github/gilvandrocesardemedeiros/DCA_UFRN_IA/blob/main/Hand_Motion_SVM_Users.ipynb\" target=\"_parent\"><img src=\"https://colab.research.google.com/assets/colab-badge.svg\" alt=\"Open In Colab\"/></a>"
      ]
    },
    {
      "cell_type": "code",
      "metadata": {
        "id": "HOg6ScSSop-P"
      },
      "source": [
        "import pandas as pd\n",
        "import numpy as np"
      ],
      "execution_count": 126,
      "outputs": []
    },
    {
      "cell_type": "code",
      "metadata": {
        "id": "t3Zf0t6zozzf"
      },
      "source": [
        "df = pd.read_csv(\"/content/Postures.csv\")"
      ],
      "execution_count": 127,
      "outputs": []
    },
    {
      "cell_type": "code",
      "metadata": {
        "colab": {
          "base_uri": "https://localhost:8080/",
          "height": 214
        },
        "id": "OCwX4H-0o_6a",
        "outputId": "2ee20f77-8e11-44c1-b24b-f727e1c12119"
      },
      "source": [
        "df.head(5)"
      ],
      "execution_count": 128,
      "outputs": [
        {
          "output_type": "execute_result",
          "data": {
            "text/html": [
              "<div>\n",
              "<style scoped>\n",
              "    .dataframe tbody tr th:only-of-type {\n",
              "        vertical-align: middle;\n",
              "    }\n",
              "\n",
              "    .dataframe tbody tr th {\n",
              "        vertical-align: top;\n",
              "    }\n",
              "\n",
              "    .dataframe thead th {\n",
              "        text-align: right;\n",
              "    }\n",
              "</style>\n",
              "<table border=\"1\" class=\"dataframe\">\n",
              "  <thead>\n",
              "    <tr style=\"text-align: right;\">\n",
              "      <th></th>\n",
              "      <th>Class</th>\n",
              "      <th>User</th>\n",
              "      <th>X0</th>\n",
              "      <th>Y0</th>\n",
              "      <th>Z0</th>\n",
              "      <th>X1</th>\n",
              "      <th>Y1</th>\n",
              "      <th>Z1</th>\n",
              "      <th>X2</th>\n",
              "      <th>Y2</th>\n",
              "      <th>Z2</th>\n",
              "      <th>X3</th>\n",
              "      <th>Y3</th>\n",
              "      <th>Z3</th>\n",
              "      <th>X4</th>\n",
              "      <th>Y4</th>\n",
              "      <th>Z4</th>\n",
              "      <th>X5</th>\n",
              "      <th>Y5</th>\n",
              "      <th>Z5</th>\n",
              "      <th>X6</th>\n",
              "      <th>Y6</th>\n",
              "      <th>Z6</th>\n",
              "      <th>X7</th>\n",
              "      <th>Y7</th>\n",
              "      <th>Z7</th>\n",
              "      <th>X8</th>\n",
              "      <th>Y8</th>\n",
              "      <th>Z8</th>\n",
              "      <th>X9</th>\n",
              "      <th>Y9</th>\n",
              "      <th>Z9</th>\n",
              "      <th>X10</th>\n",
              "      <th>Y10</th>\n",
              "      <th>Z10</th>\n",
              "      <th>X11</th>\n",
              "      <th>Y11</th>\n",
              "      <th>Z11</th>\n",
              "    </tr>\n",
              "  </thead>\n",
              "  <tbody>\n",
              "    <tr>\n",
              "      <th>0</th>\n",
              "      <td>1</td>\n",
              "      <td>0</td>\n",
              "      <td>54.263880</td>\n",
              "      <td>71.466776</td>\n",
              "      <td>-64.807709</td>\n",
              "      <td>76.895635</td>\n",
              "      <td>42.462500</td>\n",
              "      <td>-72.780545</td>\n",
              "      <td>36.621229</td>\n",
              "      <td>81.680557</td>\n",
              "      <td>-52.919272</td>\n",
              "      <td>85.2322638852917</td>\n",
              "      <td>67.7492195028673</td>\n",
              "      <td>-73.684130041833</td>\n",
              "      <td>59.1885757027887</td>\n",
              "      <td>10.6789364098231</td>\n",
              "      <td>-71.2977813147725</td>\n",
              "      <td>?</td>\n",
              "      <td>?</td>\n",
              "      <td>?</td>\n",
              "      <td>?</td>\n",
              "      <td>?</td>\n",
              "      <td>?</td>\n",
              "      <td>?</td>\n",
              "      <td>?</td>\n",
              "      <td>?</td>\n",
              "      <td>?</td>\n",
              "      <td>?</td>\n",
              "      <td>?</td>\n",
              "      <td>?</td>\n",
              "      <td>?</td>\n",
              "      <td>?</td>\n",
              "      <td>?</td>\n",
              "      <td>?</td>\n",
              "      <td>?</td>\n",
              "      <td>?</td>\n",
              "      <td>?</td>\n",
              "      <td>?</td>\n",
              "    </tr>\n",
              "    <tr>\n",
              "      <th>1</th>\n",
              "      <td>1</td>\n",
              "      <td>0</td>\n",
              "      <td>56.527558</td>\n",
              "      <td>72.266609</td>\n",
              "      <td>-61.935252</td>\n",
              "      <td>39.135978</td>\n",
              "      <td>82.538530</td>\n",
              "      <td>-49.596509</td>\n",
              "      <td>79.223743</td>\n",
              "      <td>43.254091</td>\n",
              "      <td>-69.982489</td>\n",
              "      <td>87.4508729469625</td>\n",
              "      <td>68.4008083028339</td>\n",
              "      <td>-70.703990925959</td>\n",
              "      <td>61.5874515532753</td>\n",
              "      <td>11.7799190329758</td>\n",
              "      <td>-68.827417756239</td>\n",
              "      <td>?</td>\n",
              "      <td>?</td>\n",
              "      <td>?</td>\n",
              "      <td>?</td>\n",
              "      <td>?</td>\n",
              "      <td>?</td>\n",
              "      <td>?</td>\n",
              "      <td>?</td>\n",
              "      <td>?</td>\n",
              "      <td>?</td>\n",
              "      <td>?</td>\n",
              "      <td>?</td>\n",
              "      <td>?</td>\n",
              "      <td>?</td>\n",
              "      <td>?</td>\n",
              "      <td>?</td>\n",
              "      <td>?</td>\n",
              "      <td>?</td>\n",
              "      <td>?</td>\n",
              "      <td>?</td>\n",
              "      <td>?</td>\n",
              "    </tr>\n",
              "    <tr>\n",
              "      <th>2</th>\n",
              "      <td>1</td>\n",
              "      <td>0</td>\n",
              "      <td>55.849928</td>\n",
              "      <td>72.469064</td>\n",
              "      <td>-62.562788</td>\n",
              "      <td>37.988804</td>\n",
              "      <td>82.631347</td>\n",
              "      <td>-50.606259</td>\n",
              "      <td>78.451526</td>\n",
              "      <td>43.567403</td>\n",
              "      <td>-70.658489</td>\n",
              "      <td>86.8353875680762</td>\n",
              "      <td>68.9079249764243</td>\n",
              "      <td>-71.1383441365739</td>\n",
              "      <td>61.6864271910576</td>\n",
              "      <td>11.7934398850428</td>\n",
              "      <td>-68.88931646056</td>\n",
              "      <td>?</td>\n",
              "      <td>?</td>\n",
              "      <td>?</td>\n",
              "      <td>?</td>\n",
              "      <td>?</td>\n",
              "      <td>?</td>\n",
              "      <td>?</td>\n",
              "      <td>?</td>\n",
              "      <td>?</td>\n",
              "      <td>?</td>\n",
              "      <td>?</td>\n",
              "      <td>?</td>\n",
              "      <td>?</td>\n",
              "      <td>?</td>\n",
              "      <td>?</td>\n",
              "      <td>?</td>\n",
              "      <td>?</td>\n",
              "      <td>?</td>\n",
              "      <td>?</td>\n",
              "      <td>?</td>\n",
              "      <td>?</td>\n",
              "    </tr>\n",
              "    <tr>\n",
              "      <th>3</th>\n",
              "      <td>1</td>\n",
              "      <td>0</td>\n",
              "      <td>55.329647</td>\n",
              "      <td>71.707275</td>\n",
              "      <td>-63.688956</td>\n",
              "      <td>36.561863</td>\n",
              "      <td>81.868749</td>\n",
              "      <td>-52.752784</td>\n",
              "      <td>86.320630</td>\n",
              "      <td>68.214645</td>\n",
              "      <td>-72.228461</td>\n",
              "      <td>61.5961571288978</td>\n",
              "      <td>11.2506481750465</td>\n",
              "      <td>-68.9564252307431</td>\n",
              "      <td>77.3872254123912</td>\n",
              "      <td>42.7178334810919</td>\n",
              "      <td>-72.0151462991019</td>\n",
              "      <td>?</td>\n",
              "      <td>?</td>\n",
              "      <td>?</td>\n",
              "      <td>?</td>\n",
              "      <td>?</td>\n",
              "      <td>?</td>\n",
              "      <td>?</td>\n",
              "      <td>?</td>\n",
              "      <td>?</td>\n",
              "      <td>?</td>\n",
              "      <td>?</td>\n",
              "      <td>?</td>\n",
              "      <td>?</td>\n",
              "      <td>?</td>\n",
              "      <td>?</td>\n",
              "      <td>?</td>\n",
              "      <td>?</td>\n",
              "      <td>?</td>\n",
              "      <td>?</td>\n",
              "      <td>?</td>\n",
              "      <td>?</td>\n",
              "    </tr>\n",
              "    <tr>\n",
              "      <th>4</th>\n",
              "      <td>1</td>\n",
              "      <td>0</td>\n",
              "      <td>55.142401</td>\n",
              "      <td>71.435607</td>\n",
              "      <td>-64.177303</td>\n",
              "      <td>36.175818</td>\n",
              "      <td>81.556874</td>\n",
              "      <td>-53.475747</td>\n",
              "      <td>76.986143</td>\n",
              "      <td>42.426849</td>\n",
              "      <td>-72.574743</td>\n",
              "      <td>86.3687480605765</td>\n",
              "      <td>67.9012603746826</td>\n",
              "      <td>-72.4446499648169</td>\n",
              "      <td>61.2754021959714</td>\n",
              "      <td>10.8411094568665</td>\n",
              "      <td>-69.2799064015993</td>\n",
              "      <td>?</td>\n",
              "      <td>?</td>\n",
              "      <td>?</td>\n",
              "      <td>?</td>\n",
              "      <td>?</td>\n",
              "      <td>?</td>\n",
              "      <td>?</td>\n",
              "      <td>?</td>\n",
              "      <td>?</td>\n",
              "      <td>?</td>\n",
              "      <td>?</td>\n",
              "      <td>?</td>\n",
              "      <td>?</td>\n",
              "      <td>?</td>\n",
              "      <td>?</td>\n",
              "      <td>?</td>\n",
              "      <td>?</td>\n",
              "      <td>?</td>\n",
              "      <td>?</td>\n",
              "      <td>?</td>\n",
              "      <td>?</td>\n",
              "    </tr>\n",
              "  </tbody>\n",
              "</table>\n",
              "</div>"
            ],
            "text/plain": [
              "   Class  User         X0         Y0         Z0  ...  Y10  Z10  X11  Y11  Z11\n",
              "0      1     0  54.263880  71.466776 -64.807709  ...    ?    ?    ?    ?    ?\n",
              "1      1     0  56.527558  72.266609 -61.935252  ...    ?    ?    ?    ?    ?\n",
              "2      1     0  55.849928  72.469064 -62.562788  ...    ?    ?    ?    ?    ?\n",
              "3      1     0  55.329647  71.707275 -63.688956  ...    ?    ?    ?    ?    ?\n",
              "4      1     0  55.142401  71.435607 -64.177303  ...    ?    ?    ?    ?    ?\n",
              "\n",
              "[5 rows x 38 columns]"
            ]
          },
          "metadata": {
            "tags": []
          },
          "execution_count": 128
        }
      ]
    },
    {
      "cell_type": "code",
      "metadata": {
        "id": "Z_T9ZRvWqtmS"
      },
      "source": [
        "df = df.replace('?', 0.0)"
      ],
      "execution_count": 129,
      "outputs": []
    },
    {
      "cell_type": "code",
      "metadata": {
        "colab": {
          "base_uri": "https://localhost:8080/",
          "height": 282
        },
        "id": "07BgzCLmxFqr",
        "outputId": "d224b3b6-6a3d-4353-86a9-6d66847b7e0a"
      },
      "source": [
        "df.describe()"
      ],
      "execution_count": 130,
      "outputs": [
        {
          "output_type": "execute_result",
          "data": {
            "text/html": [
              "<div>\n",
              "<style scoped>\n",
              "    .dataframe tbody tr th:only-of-type {\n",
              "        vertical-align: middle;\n",
              "    }\n",
              "\n",
              "    .dataframe tbody tr th {\n",
              "        vertical-align: top;\n",
              "    }\n",
              "\n",
              "    .dataframe thead th {\n",
              "        text-align: right;\n",
              "    }\n",
              "</style>\n",
              "<table border=\"1\" class=\"dataframe\">\n",
              "  <thead>\n",
              "    <tr style=\"text-align: right;\">\n",
              "      <th></th>\n",
              "      <th>Class</th>\n",
              "      <th>User</th>\n",
              "      <th>X0</th>\n",
              "      <th>Y0</th>\n",
              "      <th>Z0</th>\n",
              "      <th>X1</th>\n",
              "      <th>Y1</th>\n",
              "      <th>Z1</th>\n",
              "      <th>X2</th>\n",
              "      <th>Y2</th>\n",
              "      <th>Z2</th>\n",
              "    </tr>\n",
              "  </thead>\n",
              "  <tbody>\n",
              "    <tr>\n",
              "      <th>count</th>\n",
              "      <td>78095.000000</td>\n",
              "      <td>78095.000000</td>\n",
              "      <td>78095.000000</td>\n",
              "      <td>78095.000000</td>\n",
              "      <td>78095.000000</td>\n",
              "      <td>78095.000000</td>\n",
              "      <td>78095.000000</td>\n",
              "      <td>78095.000000</td>\n",
              "      <td>78095.000000</td>\n",
              "      <td>78095.000000</td>\n",
              "      <td>78095.000000</td>\n",
              "    </tr>\n",
              "    <tr>\n",
              "      <th>mean</th>\n",
              "      <td>2.983776</td>\n",
              "      <td>7.959229</td>\n",
              "      <td>50.346308</td>\n",
              "      <td>85.813150</td>\n",
              "      <td>-29.985096</td>\n",
              "      <td>49.595844</td>\n",
              "      <td>86.193751</td>\n",
              "      <td>-29.509579</td>\n",
              "      <td>48.612744</td>\n",
              "      <td>83.772387</td>\n",
              "      <td>-30.560906</td>\n",
              "    </tr>\n",
              "    <tr>\n",
              "      <th>std</th>\n",
              "      <td>1.421152</td>\n",
              "      <td>4.697754</td>\n",
              "      <td>32.695886</td>\n",
              "      <td>40.203448</td>\n",
              "      <td>34.361971</td>\n",
              "      <td>32.477961</td>\n",
              "      <td>40.452297</td>\n",
              "      <td>34.764460</td>\n",
              "      <td>33.605155</td>\n",
              "      <td>41.022710</td>\n",
              "      <td>35.120384</td>\n",
              "    </tr>\n",
              "    <tr>\n",
              "      <th>min</th>\n",
              "      <td>1.000000</td>\n",
              "      <td>0.000000</td>\n",
              "      <td>-108.552738</td>\n",
              "      <td>-98.233756</td>\n",
              "      <td>-126.770872</td>\n",
              "      <td>-111.685241</td>\n",
              "      <td>-96.142589</td>\n",
              "      <td>-166.006838</td>\n",
              "      <td>-106.886524</td>\n",
              "      <td>-100.789312</td>\n",
              "      <td>-129.595296</td>\n",
              "    </tr>\n",
              "    <tr>\n",
              "      <th>25%</th>\n",
              "      <td>2.000000</td>\n",
              "      <td>5.000000</td>\n",
              "      <td>29.295141</td>\n",
              "      <td>63.497746</td>\n",
              "      <td>-56.356593</td>\n",
              "      <td>28.755679</td>\n",
              "      <td>64.156450</td>\n",
              "      <td>-57.360408</td>\n",
              "      <td>25.173405</td>\n",
              "      <td>58.053733</td>\n",
              "      <td>-58.654339</td>\n",
              "    </tr>\n",
              "    <tr>\n",
              "      <th>50%</th>\n",
              "      <td>3.000000</td>\n",
              "      <td>9.000000</td>\n",
              "      <td>54.620245</td>\n",
              "      <td>86.526334</td>\n",
              "      <td>-30.864248</td>\n",
              "      <td>54.215714</td>\n",
              "      <td>87.543493</td>\n",
              "      <td>-30.185331</td>\n",
              "      <td>53.814592</td>\n",
              "      <td>86.459935</td>\n",
              "      <td>-32.356535</td>\n",
              "    </tr>\n",
              "    <tr>\n",
              "      <th>75%</th>\n",
              "      <td>4.000000</td>\n",
              "      <td>12.000000</td>\n",
              "      <td>72.488833</td>\n",
              "      <td>113.108673</td>\n",
              "      <td>-1.419462</td>\n",
              "      <td>71.763080</td>\n",
              "      <td>116.228881</td>\n",
              "      <td>-0.368080</td>\n",
              "      <td>71.561988</td>\n",
              "      <td>106.661720</td>\n",
              "      <td>-0.946134</td>\n",
              "    </tr>\n",
              "    <tr>\n",
              "      <th>max</th>\n",
              "      <td>5.000000</td>\n",
              "      <td>14.000000</td>\n",
              "      <td>190.017835</td>\n",
              "      <td>169.175464</td>\n",
              "      <td>113.345119</td>\n",
              "      <td>188.691997</td>\n",
              "      <td>170.209350</td>\n",
              "      <td>104.697852</td>\n",
              "      <td>188.760168</td>\n",
              "      <td>168.186466</td>\n",
              "      <td>104.590879</td>\n",
              "    </tr>\n",
              "  </tbody>\n",
              "</table>\n",
              "</div>"
            ],
            "text/plain": [
              "              Class          User  ...            Y2            Z2\n",
              "count  78095.000000  78095.000000  ...  78095.000000  78095.000000\n",
              "mean       2.983776      7.959229  ...     83.772387    -30.560906\n",
              "std        1.421152      4.697754  ...     41.022710     35.120384\n",
              "min        1.000000      0.000000  ...   -100.789312   -129.595296\n",
              "25%        2.000000      5.000000  ...     58.053733    -58.654339\n",
              "50%        3.000000      9.000000  ...     86.459935    -32.356535\n",
              "75%        4.000000     12.000000  ...    106.661720     -0.946134\n",
              "max        5.000000     14.000000  ...    168.186466    104.590879\n",
              "\n",
              "[8 rows x 11 columns]"
            ]
          },
          "metadata": {
            "tags": []
          },
          "execution_count": 130
        }
      ]
    },
    {
      "cell_type": "code",
      "metadata": {
        "colab": {
          "base_uri": "https://localhost:8080/"
        },
        "id": "BaNp0LsS6lml",
        "outputId": "e945272b-0b7a-4b09-d84d-4eb62c61fcf5"
      },
      "source": [
        "df.info()"
      ],
      "execution_count": 131,
      "outputs": [
        {
          "output_type": "stream",
          "text": [
            "<class 'pandas.core.frame.DataFrame'>\n",
            "RangeIndex: 78095 entries, 0 to 78094\n",
            "Data columns (total 38 columns):\n",
            " #   Column  Non-Null Count  Dtype  \n",
            "---  ------  --------------  -----  \n",
            " 0   Class   78095 non-null  int64  \n",
            " 1   User    78095 non-null  int64  \n",
            " 2   X0      78095 non-null  float64\n",
            " 3   Y0      78095 non-null  float64\n",
            " 4   Z0      78095 non-null  float64\n",
            " 5   X1      78095 non-null  float64\n",
            " 6   Y1      78095 non-null  float64\n",
            " 7   Z1      78095 non-null  float64\n",
            " 8   X2      78095 non-null  float64\n",
            " 9   Y2      78095 non-null  float64\n",
            " 10  Z2      78095 non-null  float64\n",
            " 11  X3      78095 non-null  object \n",
            " 12  Y3      78095 non-null  object \n",
            " 13  Z3      78095 non-null  object \n",
            " 14  X4      78095 non-null  object \n",
            " 15  Y4      78095 non-null  object \n",
            " 16  Z4      78095 non-null  object \n",
            " 17  X5      78095 non-null  object \n",
            " 18  Y5      78095 non-null  object \n",
            " 19  Z5      78095 non-null  object \n",
            " 20  X6      78095 non-null  object \n",
            " 21  Y6      78095 non-null  object \n",
            " 22  Z6      78095 non-null  object \n",
            " 23  X7      78095 non-null  object \n",
            " 24  Y7      78095 non-null  object \n",
            " 25  Z7      78095 non-null  object \n",
            " 26  X8      78095 non-null  object \n",
            " 27  Y8      78095 non-null  object \n",
            " 28  Z8      78095 non-null  object \n",
            " 29  X9      78095 non-null  object \n",
            " 30  Y9      78095 non-null  object \n",
            " 31  Z9      78095 non-null  object \n",
            " 32  X10     78095 non-null  object \n",
            " 33  Y10     78095 non-null  object \n",
            " 34  Z10     78095 non-null  object \n",
            " 35  X11     78095 non-null  object \n",
            " 36  Y11     78095 non-null  object \n",
            " 37  Z11     78095 non-null  object \n",
            "dtypes: float64(9), int64(2), object(27)\n",
            "memory usage: 22.6+ MB\n"
          ],
          "name": "stdout"
        }
      ]
    },
    {
      "cell_type": "code",
      "metadata": {
        "id": "M3gSRnBc6rGY"
      },
      "source": [
        "df = df.astype('float')"
      ],
      "execution_count": 132,
      "outputs": []
    },
    {
      "cell_type": "code",
      "metadata": {
        "colab": {
          "base_uri": "https://localhost:8080/"
        },
        "id": "_mf9dofmUhVz",
        "outputId": "61d85537-ce01-45b9-99c9-fb2b9f15414c"
      },
      "source": [
        "dfAux.User.value_counts()"
      ],
      "execution_count": 133,
      "outputs": [
        {
          "output_type": "execute_result",
          "data": {
            "text/plain": [
              "10.0    8910\n",
              "11.0    7934\n",
              "13.0    6705\n",
              "8.0     6130\n",
              "14.0    5854\n",
              "0.0     5853\n",
              "5.0     4782\n",
              "12.0    4500\n",
              "6.0     4376\n",
              "9.0     3920\n",
              "1.0     2932\n",
              "2.0     2594\n",
              "7.0      370\n",
              "4.0      212\n",
              "Name: User, dtype: int64"
            ]
          },
          "metadata": {
            "tags": []
          },
          "execution_count": 133
        }
      ]
    },
    {
      "cell_type": "code",
      "metadata": {
        "id": "rAEfYwA61PJR"
      },
      "source": [
        "df1 = df.loc[df['User'] == 0.0].sample(frac = 1)\n",
        "df2 = df.loc[df['User'] == 5.0].sample(frac = 1)\n",
        "df3 = df.loc[df['User'] == 12.0].sample(frac = 1)"
      ],
      "execution_count": 134,
      "outputs": []
    },
    {
      "cell_type": "code",
      "metadata": {
        "id": "oRE7KBTH4YrS"
      },
      "source": [
        "dfTrain = df.loc[df['User'] != 0.0].sample(frac = 1)\n",
        "dfTrain = dfTrain.loc[df['User'] != 5.0].sample(frac = 1)\n",
        "dfTrain = dfTrain.loc[df['User'] != 12.0].sample(frac = 1)\n",
        "dfTeste = pd.concat([df1,df2,df3]).sample(frac = 1)"
      ],
      "execution_count": 135,
      "outputs": []
    },
    {
      "cell_type": "code",
      "metadata": {
        "id": "20nhxqn15wGE"
      },
      "source": [
        "x_train = dfTrain.drop(columns = ['Class','User'])\n",
        "y_train = dfTrain['Class']"
      ],
      "execution_count": 136,
      "outputs": []
    },
    {
      "cell_type": "code",
      "metadata": {
        "id": "Tg24TLwU94Uf"
      },
      "source": [
        "x_test = dfTeste.drop(columns = ['Class','User'])\n",
        "y_test = dfTeste['Class']"
      ],
      "execution_count": 137,
      "outputs": []
    },
    {
      "cell_type": "markdown",
      "metadata": {
        "id": "BLjDB1cH7Bpk"
      },
      "source": [
        "Normalizacao Z-Score"
      ]
    },
    {
      "cell_type": "code",
      "metadata": {
        "id": "imFqvEGp4y2z"
      },
      "source": [
        "x_mean = x_train.mean()\n",
        "x_std = x_train.std()\n",
        "x_normZ = (x_train-x_mean)/x_std"
      ],
      "execution_count": 138,
      "outputs": []
    },
    {
      "cell_type": "code",
      "metadata": {
        "id": "TKNvsfVh-AHL"
      },
      "source": [
        "x_testZ = (x_test-x_mean)/x_std"
      ],
      "execution_count": 139,
      "outputs": []
    },
    {
      "cell_type": "markdown",
      "metadata": {
        "id": "Wz_jLFtk7EFl"
      },
      "source": [
        "Normalizacao MaxMin (pode ser removido)"
      ]
    },
    {
      "cell_type": "code",
      "metadata": {
        "id": "WBKFwN_J7Hm_"
      },
      "source": [
        "from sklearn.preprocessing import MinMaxScaler\n",
        "scaler = MinMaxScaler()\n",
        "x_train_MM = scaler.fit_transform(x_train)"
      ],
      "execution_count": 140,
      "outputs": []
    },
    {
      "cell_type": "code",
      "metadata": {
        "id": "ukMZjkMc7qwx"
      },
      "source": [
        "x_test_MM = scaler.transform(x_test)"
      ],
      "execution_count": 141,
      "outputs": []
    },
    {
      "cell_type": "code",
      "metadata": {
        "id": "59Ppo53k9jMT"
      },
      "source": [
        "from sklearn.neural_network import MLPClassifier\n",
        "from sklearn.svm import SVC\n",
        "from sklearn.metrics import classification_report, confusion_matrix, accuracy_score"
      ],
      "execution_count": 148,
      "outputs": []
    },
    {
      "cell_type": "markdown",
      "metadata": {
        "id": "ih_vGnUBuDft"
      },
      "source": [
        "Aplicações dos algoritmos foram testados com dados só normalizados  e dados normalizados + PCA. Só normalizados por Z-Score gerou melhor resultado"
      ]
    },
    {
      "cell_type": "code",
      "metadata": {
        "id": "Odit_kxN87M9",
        "colab": {
          "base_uri": "https://localhost:8080/"
        },
        "outputId": "003083c4-c52d-48f9-9d3a-28aa6e328b26"
      },
      "source": [
        "svm = SVC(C= 1,\n",
        "          kernel='poly',            # kernel{‘linear’, ‘poly’, ‘rbf’, ‘sigmoid’, ‘precomputed’}, default=’rbf’       \n",
        "          gamma='auto' ,           # se gamma='scale'(padrão) é passado, então ele usa 1 / (n_features * X.var ()) como valor de gama,\n",
        "                                   # se 'auto', usa 1 / n_features.\n",
        "          degree = 4,              # grau do polinomio para kernel poly\n",
        "          coef0 = 2,               # usa em poly e sigmoid\n",
        "          tol=0.01,                # Tolerância para critério de parada.\n",
        "          shrinking = True,        # uso da heurística de encolhimento\n",
        "          probability = False,      # usa 5-fold cross validation\n",
        "          cache_size=2048,         # Especifique o tamanho do cache do kernel (em MB).\n",
        "          verbose= False, \n",
        "          max_iter=-1,             # Limite rígido nas iterações no solver ou -1 para nenhum limite.\n",
        "          )\n",
        "\n",
        "svm.fit(x_normZ, y_train.values.ravel())\n",
        "\n",
        "print(\"Treino\\n\")\n",
        "predictions = svm.predict(x_normZ)\n",
        "confMatSVM = confusion_matrix(y_train,predictions)\n",
        "print(confMatSVM)\n",
        "print(classification_report(y_train,predictions))\n",
        "\n",
        "print(\"\\n____________________________________________________\\n\")\n",
        "print(\"\\n Teste\\n\")\n",
        "predictionsTestSvm = svm.predict(x_testZ)\n",
        "confMatSVM = confusion_matrix(y_test,predictionsTestSvm)\n",
        "print(confusion_matrix(y_test,predictionsTestSvm))\n",
        "print(classification_report(y_test,predictionsTestSvm))\n"
      ],
      "execution_count": 157,
      "outputs": [
        {
          "output_type": "stream",
          "text": [
            "Treino\n",
            "\n",
            "[[12858     0     3     0     0]\n",
            " [    7 11376     7     3     0]\n",
            " [   24     0 12448     8     0]\n",
            " [    6     0    34 10709     0]\n",
            " [    0     0     2     0 11592]]\n",
            "              precision    recall  f1-score   support\n",
            "\n",
            "         1.0       1.00      1.00      1.00     12861\n",
            "         2.0       1.00      1.00      1.00     11393\n",
            "         3.0       1.00      1.00      1.00     12480\n",
            "         4.0       1.00      1.00      1.00     10749\n",
            "         5.0       1.00      1.00      1.00     11594\n",
            "\n",
            "    accuracy                           1.00     59077\n",
            "   macro avg       1.00      1.00      1.00     59077\n",
            "weighted avg       1.00      1.00      1.00     59077\n",
            "\n",
            "\n",
            "____________________________________________________\n",
            "\n",
            "\n",
            " Teste\n",
            "\n",
            "[[2495  718  184    0    7]\n",
            " [  79 3207    7  211   81]\n",
            " [ 117   80 3621   43    3]\n",
            " [ 158   81 1160 2577   50]\n",
            " [  30  395   43  204 3467]]\n",
            "              precision    recall  f1-score   support\n",
            "\n",
            "         1.0       0.87      0.73      0.79      3404\n",
            "         2.0       0.72      0.89      0.80      3585\n",
            "         3.0       0.72      0.94      0.82      3864\n",
            "         4.0       0.85      0.64      0.73      4026\n",
            "         5.0       0.96      0.84      0.90      4139\n",
            "\n",
            "    accuracy                           0.81     19018\n",
            "   macro avg       0.82      0.81      0.81     19018\n",
            "weighted avg       0.83      0.81      0.81     19018\n",
            "\n"
          ],
          "name": "stdout"
        }
      ]
    },
    {
      "cell_type": "markdown",
      "metadata": {
        "id": "YdOwhc2G1Eak"
      },
      "source": [
        "MLP (usando SKLearn) não gerou resultados ideais."
      ]
    },
    {
      "cell_type": "code",
      "metadata": {
        "id": "g77ffsfpETod",
        "colab": {
          "base_uri": "https://localhost:8080/"
        },
        "outputId": "ac1c9c84-6fd4-4b31-b343-c2fa67ceb7c6"
      },
      "source": [
        "mlp1 = MLPClassifier(solver = 'adam',    #adam, sgd, lbfgs\n",
        "                     activation ='relu',       #identity, logistic, tanh, relu\n",
        "                     hidden_layer_sizes=(10,10,10), \n",
        "                     alpha = 0.01,\n",
        "                     learning_rate = 'constant',    #constant, invscaling, adaptive . só para sgd\n",
        "                     learning_rate_init = 0.005,    #so para sgd\n",
        "                     power_t = 0.1,                 #so para sgd, usando invscaling\n",
        "                     momentum = 0.9,                #so para sgd\n",
        "                     nesterovs_momentum = True,      #so para sgd e se momentum > 0\n",
        "                     beta_1 = 0.9,                  #so para adam\n",
        "                     beta_2 = 0.99,                  #so para adam\n",
        "                     epsilon = 1e-8,                #so para adam\n",
        "                     tol = 1e-3,\n",
        "                     max_iter=1000,\n",
        "                     verbose = False, \n",
        "                     early_stopping= False,\n",
        "                     validation_fraction= 0.2,      #so se early stopping = true\n",
        "                     shuffle = True, \n",
        "                     n_iter_no_change = 20)\n",
        "\n",
        "mlp1.fit(x_train_MM,y_train.values.ravel())\n",
        "\n",
        "print(\"Treino\\n\")\n",
        "predictions = mlp1.predict(x_train_MM)\n",
        "confMat1MLP = confusion_matrix(y_train,predictions)\n",
        "print(confMat1MLP)\n",
        "print(classification_report(y_train,predictions))\n",
        "\n",
        "\n",
        "print(\"\\n__________________\\n\")\n",
        "print(\"\\n Teste\\n\")\n",
        "predictionsTestMlp = mlp1.predict(x_test_MM)\n",
        "confMat2MLP = confusion_matrix(y_test,predictionsTestMlp)\n",
        "print(confMat2MLP)\n",
        "print(classification_report(y_test,predictionsTestMlp))"
      ],
      "execution_count": 152,
      "outputs": [
        {
          "output_type": "stream",
          "text": [
            "Treino\n",
            "\n",
            "[[12524    48   287     1     1]\n",
            " [   19 10843   105    37   389]\n",
            " [  103     8 11945   383    41]\n",
            " [   35    32   282 10173   227]\n",
            " [    3   560   147   303 10581]]\n",
            "              precision    recall  f1-score   support\n",
            "\n",
            "         1.0       0.99      0.97      0.98     12861\n",
            "         2.0       0.94      0.95      0.95     11393\n",
            "         3.0       0.94      0.96      0.95     12480\n",
            "         4.0       0.93      0.95      0.94     10749\n",
            "         5.0       0.94      0.91      0.93     11594\n",
            "\n",
            "    accuracy                           0.95     59077\n",
            "   macro avg       0.95      0.95      0.95     59077\n",
            "weighted avg       0.95      0.95      0.95     59077\n",
            "\n",
            "\n",
            "__________________\n",
            "\n",
            "\n",
            " Teste\n",
            "\n",
            "[[1965  478  960    0    1]\n",
            " [  26 3047    8   43  461]\n",
            " [1013   65 2542  132  112]\n",
            " [  26  113 2195  406 1286]\n",
            " [   0 1002   52  308 2777]]\n",
            "              precision    recall  f1-score   support\n",
            "\n",
            "         1.0       0.65      0.58      0.61      3404\n",
            "         2.0       0.65      0.85      0.74      3585\n",
            "         3.0       0.44      0.66      0.53      3864\n",
            "         4.0       0.46      0.10      0.17      4026\n",
            "         5.0       0.60      0.67      0.63      4139\n",
            "\n",
            "    accuracy                           0.56     19018\n",
            "   macro avg       0.56      0.57      0.53     19018\n",
            "weighted avg       0.55      0.56      0.53     19018\n",
            "\n"
          ],
          "name": "stdout"
        }
      ]
    }
  ]
}