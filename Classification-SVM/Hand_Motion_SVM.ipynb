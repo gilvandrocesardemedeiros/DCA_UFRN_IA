{
  "nbformat": 4,
  "nbformat_minor": 0,
  "metadata": {
    "colab": {
      "name": "Hand_Motion_SVM.ipynb",
      "provenance": [],
      "collapsed_sections": []
    },
    "kernelspec": {
      "name": "python3",
      "display_name": "Python 3"
    }
  },
  "cells": [
    {
      "cell_type": "code",
      "metadata": {
        "id": "HOg6ScSSop-P"
      },
      "source": [
        "import pandas as pd\n",
        "import numpy as np\n",
        "import matplotlib.pyplot as plt"
      ],
      "execution_count": 1,
      "outputs": []
    },
    {
      "cell_type": "code",
      "metadata": {
        "id": "t3Zf0t6zozzf"
      },
      "source": [
        "df = pd.read_csv(\"Postures.csv\").drop(0)"
      ],
      "execution_count": 2,
      "outputs": []
    },
    {
      "cell_type": "code",
      "metadata": {
        "colab": {
          "base_uri": "https://localhost:8080/",
          "height": 226
        },
        "id": "OCwX4H-0o_6a",
        "outputId": "b3da39eb-8aee-4b51-fefa-2f27af199056"
      },
      "source": [
        "df.head()"
      ],
      "execution_count": 3,
      "outputs": [
        {
          "output_type": "execute_result",
          "data": {
            "text/html": [
              "<div>\n",
              "<style scoped>\n",
              "    .dataframe tbody tr th:only-of-type {\n",
              "        vertical-align: middle;\n",
              "    }\n",
              "\n",
              "    .dataframe tbody tr th {\n",
              "        vertical-align: top;\n",
              "    }\n",
              "\n",
              "    .dataframe thead th {\n",
              "        text-align: right;\n",
              "    }\n",
              "</style>\n",
              "<table border=\"1\" class=\"dataframe\">\n",
              "  <thead>\n",
              "    <tr style=\"text-align: right;\">\n",
              "      <th></th>\n",
              "      <th>Class</th>\n",
              "      <th>User</th>\n",
              "      <th>X0</th>\n",
              "      <th>Y0</th>\n",
              "      <th>Z0</th>\n",
              "      <th>X1</th>\n",
              "      <th>Y1</th>\n",
              "      <th>Z1</th>\n",
              "      <th>X2</th>\n",
              "      <th>Y2</th>\n",
              "      <th>Z2</th>\n",
              "      <th>X3</th>\n",
              "      <th>Y3</th>\n",
              "      <th>Z3</th>\n",
              "      <th>X4</th>\n",
              "      <th>Y4</th>\n",
              "      <th>Z4</th>\n",
              "      <th>X5</th>\n",
              "      <th>Y5</th>\n",
              "      <th>Z5</th>\n",
              "      <th>X6</th>\n",
              "      <th>Y6</th>\n",
              "      <th>Z6</th>\n",
              "      <th>X7</th>\n",
              "      <th>Y7</th>\n",
              "      <th>Z7</th>\n",
              "      <th>X8</th>\n",
              "      <th>Y8</th>\n",
              "      <th>Z8</th>\n",
              "      <th>X9</th>\n",
              "      <th>Y9</th>\n",
              "      <th>Z9</th>\n",
              "      <th>X10</th>\n",
              "      <th>Y10</th>\n",
              "      <th>Z10</th>\n",
              "      <th>X11</th>\n",
              "      <th>Y11</th>\n",
              "      <th>Z11</th>\n",
              "    </tr>\n",
              "  </thead>\n",
              "  <tbody>\n",
              "    <tr>\n",
              "      <th>1</th>\n",
              "      <td>1</td>\n",
              "      <td>0</td>\n",
              "      <td>54.263880</td>\n",
              "      <td>71.466776</td>\n",
              "      <td>-64.807709</td>\n",
              "      <td>76.895635</td>\n",
              "      <td>42.462500</td>\n",
              "      <td>-72.780545</td>\n",
              "      <td>36.621229</td>\n",
              "      <td>81.680557</td>\n",
              "      <td>-52.919272</td>\n",
              "      <td>85.2322638852917</td>\n",
              "      <td>67.7492195028673</td>\n",
              "      <td>-73.684130041833</td>\n",
              "      <td>59.1885757027887</td>\n",
              "      <td>10.6789364098231</td>\n",
              "      <td>-71.2977813147725</td>\n",
              "      <td>?</td>\n",
              "      <td>?</td>\n",
              "      <td>?</td>\n",
              "      <td>?</td>\n",
              "      <td>?</td>\n",
              "      <td>?</td>\n",
              "      <td>?</td>\n",
              "      <td>?</td>\n",
              "      <td>?</td>\n",
              "      <td>?</td>\n",
              "      <td>?</td>\n",
              "      <td>?</td>\n",
              "      <td>?</td>\n",
              "      <td>?</td>\n",
              "      <td>?</td>\n",
              "      <td>?</td>\n",
              "      <td>?</td>\n",
              "      <td>?</td>\n",
              "      <td>?</td>\n",
              "      <td>?</td>\n",
              "      <td>?</td>\n",
              "    </tr>\n",
              "    <tr>\n",
              "      <th>2</th>\n",
              "      <td>1</td>\n",
              "      <td>0</td>\n",
              "      <td>56.527558</td>\n",
              "      <td>72.266609</td>\n",
              "      <td>-61.935252</td>\n",
              "      <td>39.135978</td>\n",
              "      <td>82.538530</td>\n",
              "      <td>-49.596509</td>\n",
              "      <td>79.223743</td>\n",
              "      <td>43.254091</td>\n",
              "      <td>-69.982489</td>\n",
              "      <td>87.4508729469625</td>\n",
              "      <td>68.4008083028339</td>\n",
              "      <td>-70.703990925959</td>\n",
              "      <td>61.5874515532753</td>\n",
              "      <td>11.7799190329758</td>\n",
              "      <td>-68.827417756239</td>\n",
              "      <td>?</td>\n",
              "      <td>?</td>\n",
              "      <td>?</td>\n",
              "      <td>?</td>\n",
              "      <td>?</td>\n",
              "      <td>?</td>\n",
              "      <td>?</td>\n",
              "      <td>?</td>\n",
              "      <td>?</td>\n",
              "      <td>?</td>\n",
              "      <td>?</td>\n",
              "      <td>?</td>\n",
              "      <td>?</td>\n",
              "      <td>?</td>\n",
              "      <td>?</td>\n",
              "      <td>?</td>\n",
              "      <td>?</td>\n",
              "      <td>?</td>\n",
              "      <td>?</td>\n",
              "      <td>?</td>\n",
              "      <td>?</td>\n",
              "    </tr>\n",
              "    <tr>\n",
              "      <th>3</th>\n",
              "      <td>1</td>\n",
              "      <td>0</td>\n",
              "      <td>55.849928</td>\n",
              "      <td>72.469064</td>\n",
              "      <td>-62.562788</td>\n",
              "      <td>37.988804</td>\n",
              "      <td>82.631347</td>\n",
              "      <td>-50.606259</td>\n",
              "      <td>78.451526</td>\n",
              "      <td>43.567403</td>\n",
              "      <td>-70.658489</td>\n",
              "      <td>86.8353875680762</td>\n",
              "      <td>68.9079249764243</td>\n",
              "      <td>-71.1383441365739</td>\n",
              "      <td>61.6864271910576</td>\n",
              "      <td>11.7934398850428</td>\n",
              "      <td>-68.88931646056</td>\n",
              "      <td>?</td>\n",
              "      <td>?</td>\n",
              "      <td>?</td>\n",
              "      <td>?</td>\n",
              "      <td>?</td>\n",
              "      <td>?</td>\n",
              "      <td>?</td>\n",
              "      <td>?</td>\n",
              "      <td>?</td>\n",
              "      <td>?</td>\n",
              "      <td>?</td>\n",
              "      <td>?</td>\n",
              "      <td>?</td>\n",
              "      <td>?</td>\n",
              "      <td>?</td>\n",
              "      <td>?</td>\n",
              "      <td>?</td>\n",
              "      <td>?</td>\n",
              "      <td>?</td>\n",
              "      <td>?</td>\n",
              "      <td>?</td>\n",
              "    </tr>\n",
              "    <tr>\n",
              "      <th>4</th>\n",
              "      <td>1</td>\n",
              "      <td>0</td>\n",
              "      <td>55.329647</td>\n",
              "      <td>71.707275</td>\n",
              "      <td>-63.688956</td>\n",
              "      <td>36.561863</td>\n",
              "      <td>81.868749</td>\n",
              "      <td>-52.752784</td>\n",
              "      <td>86.320630</td>\n",
              "      <td>68.214645</td>\n",
              "      <td>-72.228461</td>\n",
              "      <td>61.5961571288978</td>\n",
              "      <td>11.2506481750465</td>\n",
              "      <td>-68.9564252307431</td>\n",
              "      <td>77.3872254123912</td>\n",
              "      <td>42.7178334810919</td>\n",
              "      <td>-72.0151462991019</td>\n",
              "      <td>?</td>\n",
              "      <td>?</td>\n",
              "      <td>?</td>\n",
              "      <td>?</td>\n",
              "      <td>?</td>\n",
              "      <td>?</td>\n",
              "      <td>?</td>\n",
              "      <td>?</td>\n",
              "      <td>?</td>\n",
              "      <td>?</td>\n",
              "      <td>?</td>\n",
              "      <td>?</td>\n",
              "      <td>?</td>\n",
              "      <td>?</td>\n",
              "      <td>?</td>\n",
              "      <td>?</td>\n",
              "      <td>?</td>\n",
              "      <td>?</td>\n",
              "      <td>?</td>\n",
              "      <td>?</td>\n",
              "      <td>?</td>\n",
              "    </tr>\n",
              "    <tr>\n",
              "      <th>5</th>\n",
              "      <td>1</td>\n",
              "      <td>0</td>\n",
              "      <td>55.142401</td>\n",
              "      <td>71.435607</td>\n",
              "      <td>-64.177303</td>\n",
              "      <td>36.175818</td>\n",
              "      <td>81.556874</td>\n",
              "      <td>-53.475747</td>\n",
              "      <td>76.986143</td>\n",
              "      <td>42.426849</td>\n",
              "      <td>-72.574743</td>\n",
              "      <td>86.3687480605765</td>\n",
              "      <td>67.9012603746826</td>\n",
              "      <td>-72.4446499648169</td>\n",
              "      <td>61.2754021959714</td>\n",
              "      <td>10.8411094568665</td>\n",
              "      <td>-69.2799064015993</td>\n",
              "      <td>?</td>\n",
              "      <td>?</td>\n",
              "      <td>?</td>\n",
              "      <td>?</td>\n",
              "      <td>?</td>\n",
              "      <td>?</td>\n",
              "      <td>?</td>\n",
              "      <td>?</td>\n",
              "      <td>?</td>\n",
              "      <td>?</td>\n",
              "      <td>?</td>\n",
              "      <td>?</td>\n",
              "      <td>?</td>\n",
              "      <td>?</td>\n",
              "      <td>?</td>\n",
              "      <td>?</td>\n",
              "      <td>?</td>\n",
              "      <td>?</td>\n",
              "      <td>?</td>\n",
              "      <td>?</td>\n",
              "      <td>?</td>\n",
              "    </tr>\n",
              "  </tbody>\n",
              "</table>\n",
              "</div>"
            ],
            "text/plain": [
              "   Class  User         X0         Y0         Z0  ...  Y10  Z10  X11  Y11  Z11\n",
              "1      1     0  54.263880  71.466776 -64.807709  ...    ?    ?    ?    ?    ?\n",
              "2      1     0  56.527558  72.266609 -61.935252  ...    ?    ?    ?    ?    ?\n",
              "3      1     0  55.849928  72.469064 -62.562788  ...    ?    ?    ?    ?    ?\n",
              "4      1     0  55.329647  71.707275 -63.688956  ...    ?    ?    ?    ?    ?\n",
              "5      1     0  55.142401  71.435607 -64.177303  ...    ?    ?    ?    ?    ?\n",
              "\n",
              "[5 rows x 38 columns]"
            ]
          },
          "metadata": {
            "tags": []
          },
          "execution_count": 3
        }
      ]
    },
    {
      "cell_type": "code",
      "metadata": {
        "colab": {
          "base_uri": "https://localhost:8080/",
          "height": 320
        },
        "id": "pRWtwkHZxiSt",
        "outputId": "b3a1789c-6342-4ed0-aba0-e3212c67a20c"
      },
      "source": [
        "df.describe()"
      ],
      "execution_count": 4,
      "outputs": [
        {
          "output_type": "execute_result",
          "data": {
            "text/html": [
              "<div>\n",
              "<style scoped>\n",
              "    .dataframe tbody tr th:only-of-type {\n",
              "        vertical-align: middle;\n",
              "    }\n",
              "\n",
              "    .dataframe tbody tr th {\n",
              "        vertical-align: top;\n",
              "    }\n",
              "\n",
              "    .dataframe thead th {\n",
              "        text-align: right;\n",
              "    }\n",
              "</style>\n",
              "<table border=\"1\" class=\"dataframe\">\n",
              "  <thead>\n",
              "    <tr style=\"text-align: right;\">\n",
              "      <th></th>\n",
              "      <th>Class</th>\n",
              "      <th>User</th>\n",
              "      <th>X0</th>\n",
              "      <th>Y0</th>\n",
              "      <th>Z0</th>\n",
              "      <th>X1</th>\n",
              "      <th>Y1</th>\n",
              "      <th>Z1</th>\n",
              "      <th>X2</th>\n",
              "      <th>Y2</th>\n",
              "      <th>Z2</th>\n",
              "    </tr>\n",
              "  </thead>\n",
              "  <tbody>\n",
              "    <tr>\n",
              "      <th>count</th>\n",
              "      <td>78095.000000</td>\n",
              "      <td>78095.000000</td>\n",
              "      <td>78095.000000</td>\n",
              "      <td>78095.000000</td>\n",
              "      <td>78095.000000</td>\n",
              "      <td>78095.000000</td>\n",
              "      <td>78095.000000</td>\n",
              "      <td>78095.000000</td>\n",
              "      <td>78095.000000</td>\n",
              "      <td>78095.000000</td>\n",
              "      <td>78095.000000</td>\n",
              "    </tr>\n",
              "    <tr>\n",
              "      <th>mean</th>\n",
              "      <td>2.983776</td>\n",
              "      <td>7.959229</td>\n",
              "      <td>50.346308</td>\n",
              "      <td>85.813150</td>\n",
              "      <td>-29.985096</td>\n",
              "      <td>49.595844</td>\n",
              "      <td>86.193751</td>\n",
              "      <td>-29.509579</td>\n",
              "      <td>48.612744</td>\n",
              "      <td>83.772387</td>\n",
              "      <td>-30.560906</td>\n",
              "    </tr>\n",
              "    <tr>\n",
              "      <th>std</th>\n",
              "      <td>1.421152</td>\n",
              "      <td>4.697754</td>\n",
              "      <td>32.695886</td>\n",
              "      <td>40.203448</td>\n",
              "      <td>34.361971</td>\n",
              "      <td>32.477961</td>\n",
              "      <td>40.452297</td>\n",
              "      <td>34.764460</td>\n",
              "      <td>33.605155</td>\n",
              "      <td>41.022710</td>\n",
              "      <td>35.120384</td>\n",
              "    </tr>\n",
              "    <tr>\n",
              "      <th>min</th>\n",
              "      <td>1.000000</td>\n",
              "      <td>0.000000</td>\n",
              "      <td>-108.552738</td>\n",
              "      <td>-98.233756</td>\n",
              "      <td>-126.770872</td>\n",
              "      <td>-111.685241</td>\n",
              "      <td>-96.142589</td>\n",
              "      <td>-166.006838</td>\n",
              "      <td>-106.886524</td>\n",
              "      <td>-100.789312</td>\n",
              "      <td>-129.595296</td>\n",
              "    </tr>\n",
              "    <tr>\n",
              "      <th>25%</th>\n",
              "      <td>2.000000</td>\n",
              "      <td>5.000000</td>\n",
              "      <td>29.295141</td>\n",
              "      <td>63.497746</td>\n",
              "      <td>-56.356593</td>\n",
              "      <td>28.755679</td>\n",
              "      <td>64.156450</td>\n",
              "      <td>-57.360408</td>\n",
              "      <td>25.173405</td>\n",
              "      <td>58.053733</td>\n",
              "      <td>-58.654339</td>\n",
              "    </tr>\n",
              "    <tr>\n",
              "      <th>50%</th>\n",
              "      <td>3.000000</td>\n",
              "      <td>9.000000</td>\n",
              "      <td>54.620245</td>\n",
              "      <td>86.526334</td>\n",
              "      <td>-30.864248</td>\n",
              "      <td>54.215714</td>\n",
              "      <td>87.543493</td>\n",
              "      <td>-30.185331</td>\n",
              "      <td>53.814592</td>\n",
              "      <td>86.459935</td>\n",
              "      <td>-32.356535</td>\n",
              "    </tr>\n",
              "    <tr>\n",
              "      <th>75%</th>\n",
              "      <td>4.000000</td>\n",
              "      <td>12.000000</td>\n",
              "      <td>72.488833</td>\n",
              "      <td>113.108673</td>\n",
              "      <td>-1.419462</td>\n",
              "      <td>71.763080</td>\n",
              "      <td>116.228881</td>\n",
              "      <td>-0.368080</td>\n",
              "      <td>71.561988</td>\n",
              "      <td>106.661720</td>\n",
              "      <td>-0.946134</td>\n",
              "    </tr>\n",
              "    <tr>\n",
              "      <th>max</th>\n",
              "      <td>5.000000</td>\n",
              "      <td>14.000000</td>\n",
              "      <td>190.017835</td>\n",
              "      <td>169.175464</td>\n",
              "      <td>113.345119</td>\n",
              "      <td>188.691997</td>\n",
              "      <td>170.209350</td>\n",
              "      <td>104.697852</td>\n",
              "      <td>188.760168</td>\n",
              "      <td>168.186466</td>\n",
              "      <td>104.590879</td>\n",
              "    </tr>\n",
              "  </tbody>\n",
              "</table>\n",
              "</div>"
            ],
            "text/plain": [
              "              Class          User  ...            Y2            Z2\n",
              "count  78095.000000  78095.000000  ...  78095.000000  78095.000000\n",
              "mean       2.983776      7.959229  ...     83.772387    -30.560906\n",
              "std        1.421152      4.697754  ...     41.022710     35.120384\n",
              "min        1.000000      0.000000  ...   -100.789312   -129.595296\n",
              "25%        2.000000      5.000000  ...     58.053733    -58.654339\n",
              "50%        3.000000      9.000000  ...     86.459935    -32.356535\n",
              "75%        4.000000     12.000000  ...    106.661720     -0.946134\n",
              "max        5.000000     14.000000  ...    168.186466    104.590879\n",
              "\n",
              "[8 rows x 11 columns]"
            ]
          },
          "metadata": {
            "tags": []
          },
          "execution_count": 4
        }
      ]
    },
    {
      "cell_type": "code",
      "metadata": {
        "id": "Z_T9ZRvWqtmS"
      },
      "source": [
        "df = df.replace('?', np.nan)"
      ],
      "execution_count": 5,
      "outputs": []
    },
    {
      "cell_type": "code",
      "metadata": {
        "id": "M3gSRnBc6rGY"
      },
      "source": [
        "df = df.astype('float')"
      ],
      "execution_count": 6,
      "outputs": []
    },
    {
      "cell_type": "code",
      "metadata": {
        "id": "7bjRbv9BwpnS"
      },
      "source": [
        "dfAux = df.drop(columns = ['X5','Y5','Z5','X6','Y6','Z6','X7','Y7','Z7','X8','Y8','Z8','X9','Y9','Z9','X10','Y10','Z10','X11','Y11','Z11','User'])"
      ],
      "execution_count": 7,
      "outputs": []
    },
    {
      "cell_type": "code",
      "metadata": {
        "id": "DG3ZDZ2z1DUc"
      },
      "source": [
        "dfAux = dfAux.dropna()"
      ],
      "execution_count": 8,
      "outputs": []
    },
    {
      "cell_type": "code",
      "metadata": {
        "colab": {
          "base_uri": "https://localhost:8080/",
          "height": 320
        },
        "id": "_mf9dofmUhVz",
        "outputId": "71d49e68-ce49-4656-eecd-b28e25c5911c"
      },
      "source": [
        "#Class distribution \n",
        "plt.figure(figsize=(5, 5))\n",
        "plt.grid()\n",
        "plt.bar([\"Class-\" + str(int(classe)) for classe in dfAux.value_counts('Class').index], dfAux.value_counts('Class').values);"
      ],
      "execution_count": 9,
      "outputs": [
        {
          "output_type": "display_data",
          "data": {
            "image/png": "[encoded data removed]",
            "text/plain": [
              "<Figure size 360x360 with 1 Axes>"
            ]
          },
          "metadata": {
            "tags": [],
            "needs_background": "light"
          }
        }
      ]
    },
    {
      "cell_type": "code",
      "metadata": {
        "id": "rAEfYwA61PJR"
      },
      "source": [
        "df1 = dfAux.loc[dfAux['Class'] == 1].sample(frac = 1)\n",
        "df2 = dfAux.loc[dfAux['Class'] == 2].sample(frac = 1)\n",
        "df3 = dfAux.loc[dfAux['Class'] == 3].sample(frac = 1)\n",
        "df4 = dfAux.loc[dfAux['Class'] == 4].sample(frac = 1)\n",
        "df5 = dfAux.loc[dfAux['Class'] == 5].sample(frac = 1)"
      ],
      "execution_count": 10,
      "outputs": []
    },
    {
      "cell_type": "code",
      "metadata": {
        "id": "Uhhcv2Ol3NEJ"
      },
      "source": [
        "df1Train = df1.head(11280)\n",
        "df2Train = df2.head(11280)\n",
        "df3Train = df3.head(11280)\n",
        "df4Train = df4.head(11280)\n",
        "df5Train = df5.head(11280)\n",
        "\n",
        "df1Test = df1.tail(2820)\n",
        "df2Test = df2.tail(2820)\n",
        "df3Test = df3.tail(2820)\n",
        "df4Test = df4.tail(2820)\n",
        "df5Test = df5.tail(2820)"
      ],
      "execution_count": 11,
      "outputs": []
    },
    {
      "cell_type": "code",
      "metadata": {
        "id": "oRE7KBTH4YrS"
      },
      "source": [
        "dfTrain = pd.concat([df1Train,df2Train,df3Train,df4Train,df5Train]).sample(frac = 1)\n",
        "dfTeste = pd.concat([df1Test,df2Test,df3Test,df4Test,df5Test]).sample(frac = 1)"
      ],
      "execution_count": 12,
      "outputs": []
    },
    {
      "cell_type": "code",
      "metadata": {
        "id": "20nhxqn15wGE"
      },
      "source": [
        "x_train = dfTrain.drop(columns = 'Class')\n",
        "y_train = dfTrain['Class']"
      ],
      "execution_count": 13,
      "outputs": []
    },
    {
      "cell_type": "markdown",
      "metadata": {
        "id": "BLjDB1cH7Bpk"
      },
      "source": [
        "Normalizacao Z-Score"
      ]
    },
    {
      "cell_type": "code",
      "metadata": {
        "id": "imFqvEGp4y2z"
      },
      "source": [
        "x_mean = x_train.mean()\n",
        "x_std = x_train.std()\n",
        "x_normZ = (x_train-x_mean)/x_std"
      ],
      "execution_count": 14,
      "outputs": []
    },
    {
      "cell_type": "markdown",
      "metadata": {
        "id": "INWKiNyr7jai"
      },
      "source": [
        "Conjunto de Teste"
      ]
    },
    {
      "cell_type": "code",
      "metadata": {
        "id": "Tg24TLwU94Uf"
      },
      "source": [
        "x_test = dfTeste.drop(columns = 'Class')\n",
        "y_test = dfTeste['Class']"
      ],
      "execution_count": 15,
      "outputs": []
    },
    {
      "cell_type": "markdown",
      "metadata": {
        "id": "0UDgD_cU7lV6"
      },
      "source": [
        "Z-Score"
      ]
    },
    {
      "cell_type": "code",
      "metadata": {
        "id": "TKNvsfVh-AHL"
      },
      "source": [
        "x_testZ = (x_test-x_mean)/x_std"
      ],
      "execution_count": 16,
      "outputs": []
    },
    {
      "cell_type": "code",
      "metadata": {
        "id": "59Ppo53k9jMT"
      },
      "source": [
        "from sklearn.svm import SVC\n",
        "from sklearn.metrics import classification_report, plot_confusion_matrix, confusion_matrix, accuracy_score"
      ],
      "execution_count": 17,
      "outputs": []
    },
    {
      "cell_type": "markdown",
      "metadata": {
        "id": "ih_vGnUBuDft"
      },
      "source": [
        "Aplicações dos algoritmos foram testados com dados só normalizados  e dados normalizados + PCA. Só normalizados por Z-Score gerou melhor resultado"
      ]
    },
    {
      "cell_type": "code",
      "metadata": {
        "id": "Odit_kxN87M9",
        "colab": {
          "base_uri": "https://localhost:8080/"
        },
        "outputId": "589b2c0a-8125-4f4b-9698-965c24fbeb30"
      },
      "source": [
        "svm = SVC(C= 9,\n",
        "          kernel='rbf',            # kernel{‘linear’, ‘poly’, ‘rbf’, ‘sigmoid’, ‘precomputed’}, default=’rbf’       \n",
        "          gamma='auto' ,           # se gamma='scale'(padrão) é passado, então ele usa 1 / (n_features * X.var ()) como valor de gama,\n",
        "                                   # se 'auto', usa 1 / n_features.\n",
        "          degree = 4,              # grau do polinomio para kernel poly\n",
        "          coef0 = 2,               # usa em poly e sigmoid\n",
        "          tol=0.01,                # Tolerância para critério de parada.\n",
        "          shrinking = True,        # uso da heurística de encolhimento\n",
        "          probability = False,      # usa 5-fold cross validation\n",
        "          cache_size=2048,         # Especifique o tamanho do cache do kernel (em MB).\n",
        "          verbose= False, \n",
        "          max_iter=-1,             # Limite rígido nas iterações no solver ou -1 para nenhum limite.\n",
        "          )\n",
        "\n",
        "svm.fit(x_normZ, y_train.values.ravel())\n",
        "\n",
        "print(\"Treino\\n\")\n",
        "predictions = svm.predict(x_normZ)\n",
        "confMatSVM = confusion_matrix(y_train,predictions)\n",
        "print(confMatSVM)\n",
        "print(classification_report(y_train,predictions))\n",
        "\n",
        "print(\"\\n____________________________________________________\\n\")\n",
        "print(\"\\n Teste\\n\")\n",
        "predictionsTestSvm = svm.predict(x_testZ)\n",
        "confMatSVM = confusion_matrix(y_test,predictionsTestSvm)\n",
        "print(confusion_matrix(y_test,predictionsTestSvm))\n",
        "print(classification_report(y_test,predictionsTestSvm))\n"
      ],
      "execution_count": 18,
      "outputs": [
        {
          "output_type": "stream",
          "text": [
            "Treino\n",
            "\n",
            "[[11248    27     2     3     0]\n",
            " [    3 10746   113   355    63]\n",
            " [   49    42 11107    66    16]\n",
            " [   33   190   695 10350    12]\n",
            " [    0    75    24    22 11159]]\n",
            "              precision    recall  f1-score   support\n",
            "\n",
            "         1.0       0.99      1.00      0.99     11280\n",
            "         2.0       0.97      0.95      0.96     11280\n",
            "         3.0       0.93      0.98      0.96     11280\n",
            "         4.0       0.96      0.92      0.94     11280\n",
            "         5.0       0.99      0.99      0.99     11280\n",
            "\n",
            "    accuracy                           0.97     56400\n",
            "   macro avg       0.97      0.97      0.97     56400\n",
            "weighted avg       0.97      0.97      0.97     56400\n",
            "\n",
            "\n",
            "____________________________________________________\n",
            "\n",
            "\n",
            " Teste\n",
            "\n",
            "[[2802   12    3    2    1]\n",
            " [   4 2628   49   96   43]\n",
            " [  24   20 2714   43   19]\n",
            " [  10   51  217 2531   11]\n",
            " [   0   59   24   17 2720]]\n",
            "              precision    recall  f1-score   support\n",
            "\n",
            "         1.0       0.99      0.99      0.99      2820\n",
            "         2.0       0.95      0.93      0.94      2820\n",
            "         3.0       0.90      0.96      0.93      2820\n",
            "         4.0       0.94      0.90      0.92      2820\n",
            "         5.0       0.97      0.96      0.97      2820\n",
            "\n",
            "    accuracy                           0.95     14100\n",
            "   macro avg       0.95      0.95      0.95     14100\n",
            "weighted avg       0.95      0.95      0.95     14100\n",
            "\n"
          ],
          "name": "stdout"
        }
      ]
    },
    {
      "cell_type": "code",
      "metadata": {
        "colab": {
          "base_uri": "https://localhost:8080/",
          "height": 279
        },
        "id": "9oh3DGKvHC0N",
        "outputId": "35565348-e410-478e-a976-d93dc6aaf19b"
      },
      "source": [
        "plot_confusion_matrix(svm, x_normZ, y_train);"
      ],
      "execution_count": 19,
      "outputs": [
        {
          "output_type": "display_data",
          "data": {
            "image/png": "[encoded data removed]",
            "text/plain": [
              "<Figure size 432x288 with 2 Axes>"
            ]
          },
          "metadata": {
            "tags": [],
            "needs_background": "light"
          }
        }
      ]
    },
    {
      "cell_type": "code",
      "metadata": {
        "colab": {
          "base_uri": "https://localhost:8080/",
          "height": 279
        },
        "id": "w0SoZ36gGeA4",
        "outputId": "53bc1538-57d7-4574-8e2b-edb7673065e7"
      },
      "source": [
        "plot_confusion_matrix(svm, x_testZ, y_test);"
      ],
      "execution_count": 20,
      "outputs": [
        {
          "output_type": "display_data",
          "data": {
            "image/png": "[encoded data removed]",
            "text/plain": [
              "<Figure size 432x288 with 2 Axes>"
            ]
          },
          "metadata": {
            "tags": [],
            "needs_background": "light"
          }
        }
      ]
    }
  ]
}