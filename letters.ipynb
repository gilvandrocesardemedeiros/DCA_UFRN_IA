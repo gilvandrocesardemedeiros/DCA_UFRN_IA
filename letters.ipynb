{
  "nbformat": 4,
  "nbformat_minor": 0,
  "metadata": {
    "colab": {
      "name": "letters.ipynb",
      "provenance": [],
      "collapsed_sections": [],
      "authorship_tag": "ABX9TyP1VI4ECw47gbEiYIrzNLX8",
      "include_colab_link": true
    },
    "kernelspec": {
      "name": "python3",
      "display_name": "Python 3"
    }
  },
  "cells": [
    {
      "cell_type": "markdown",
      "metadata": {
        "id": "view-in-github",
        "colab_type": "text"
      },
      "source": [
        "<a href=\"https://colab.research.google.com/github/gilvandrocesardemedeiros/DCA_UFRN_IA/blob/main/letters.ipynb\" target=\"_parent\"><img src=\"https://colab.research.google.com/assets/colab-badge.svg\" alt=\"Open In Colab\"/></a>"
      ]
    },
    {
      "cell_type": "code",
      "metadata": {
        "id": "L-a0QRPlOB4z"
      },
      "source": [
        "import sys\r\n",
        "!{sys.executable} -m pip install -U pandas-profiling[notebook]\r\n",
        "!jupyter nbextension enable --py widgetsnbextension"
      ],
      "execution_count": null,
      "outputs": []
    },
    {
      "cell_type": "code",
      "metadata": {
        "id": "vvnC02hrjs66"
      },
      "source": [
        "import pandas as pd\r\n",
        "import pandas_profiling as pdp\r\n",
        "import numpy as np\r\n",
        "import matplotlib.pyplot as plt\r\n",
        "from scipy import stats\r\n",
        "from scipy.spatial.distance import cdist"
      ],
      "execution_count": null,
      "outputs": []
    },
    {
      "cell_type": "code",
      "metadata": {
        "id": "f9mbLtmkz1SB"
      },
      "source": [
        "df = pd.read_csv('/content/letter-recognition.data',header = None)"
      ],
      "execution_count": null,
      "outputs": []
    },
    {
      "cell_type": "code",
      "metadata": {
        "id": "re8AbFTl0Ovv"
      },
      "source": [
        "df.profile_report()"
      ],
      "execution_count": null,
      "outputs": []
    },
    {
      "cell_type": "code",
      "metadata": {
        "id": "hdObuMGVA3In"
      },
      "source": [
        "x = df.drop(columns = '0')\r\n",
        "y = df['0']"
      ],
      "execution_count": null,
      "outputs": []
    },
    {
      "cell_type": "code",
      "metadata": {
        "id": "iV36mlI0BkZD"
      },
      "source": [
        "y = y.replace({'A':0,'B':1,'C':2,'D':3,'E':4,'F':5,'G':6,'H':7,'I':8,\r\n",
        "               'J':9,'K':10,'L':11,'M':12,'N':13,'O':14,'P':15,'Q':16,'R':17,\r\n",
        "               'S':18,'T':19,'U':20,'V':21,'W':22,'X':23,'Y':24,'Z':25,})"
      ],
      "execution_count": null,
      "outputs": []
    },
    {
      "cell_type": "code",
      "metadata": {
        "id": "RhldH_sN7OHN"
      },
      "source": [
        "from sklearn.cluster import KMeans"
      ],
      "execution_count": null,
      "outputs": []
    },
    {
      "cell_type": "code",
      "metadata": {
        "id": "GdeKRhXdT5X0"
      },
      "source": [
        "distortions = []\n",
        "K = range(1,50)\n",
        "for k in K: \n",
        "    kmeansElbow_model = KMeans(n_clusters=k)\n",
        "    kmeansElbow_model.fit(x)\n",
        "    distortions.append(sum(np.min(cdist(x,kmeansElbow_model.cluster_centers_,\"euclidean\"),axis=1))/x.shape[0])"
      ],
      "execution_count": null,
      "outputs": []
    },
    {
      "cell_type": "code",
      "metadata": {
        "colab": {
          "base_uri": "https://localhost:8080/",
          "height": 318
        },
        "id": "ZL1Y7oDsUSqu",
        "outputId": "d03d4a8e-fd5a-4478-c315-3179e43cff81"
      },
      "source": [
        "#Plot distortions againt K value\n",
        "print(K)\n",
        "# checking for min of K value\n",
        "print(np.min(distortions))\n",
        "#Plotting for change in K value\n",
        "plt.plot(K,distortions,'bx-')"
      ],
      "execution_count": null,
      "outputs": [
        {
          "output_type": "stream",
          "text": [
            "range(1, 50)\n",
            "4.737645992611694\n"
          ],
          "name": "stdout"
        },
        {
          "output_type": "execute_result",
          "data": {
            "text/plain": [
              "[<matplotlib.lines.Line2D at 0x7f514fa50c50>]"
            ]
          },
          "metadata": {
            "tags": []
          },
          "execution_count": 9
        },
        {
          "output_type": "display_data",
          "data": {
            "image/png": "[encoded data removed]",
            "text/plain": [
              "<Figure size 432x288 with 1 Axes>"
            ]
          },
          "metadata": {
            "tags": [],
            "needs_background": "light"
          }
        }
      ]
    },
    {
      "cell_type": "code",
      "metadata": {
        "id": "2_qA-bb8BPTD"
      },
      "source": [
        "nclusters = 26\r\n",
        "kmeans = KMeans(n_clusters=nclusters, random_state=0).fit(x)"
      ],
      "execution_count": null,
      "outputs": []
    },
    {
      "cell_type": "code",
      "metadata": {
        "id": "W0ei-6-kBPTL"
      },
      "source": [
        "pred = kmeans.predict(x)"
      ],
      "execution_count": null,
      "outputs": []
    },
    {
      "cell_type": "code",
      "metadata": {
        "id": "OFVVH9W184Y3"
      },
      "source": [
        "contadores = np.zeros((26,nclusters))\r\n",
        "for i in range(len(y)):\r\n",
        "  for j in range(nclusters):\r\n",
        "    if y.iloc[i] == j:\r\n",
        "      contadores[j][pred[i]] +=1"
      ],
      "execution_count": null,
      "outputs": []
    },
    {
      "cell_type": "code",
      "metadata": {
        "colab": {
          "base_uri": "https://localhost:8080/"
        },
        "id": "_slOWJCz9_t_",
        "outputId": "f1b4b02e-7a4f-4dc2-8d02-93f83b8945e5"
      },
      "source": [
        "contadores"
      ],
      "execution_count": null,
      "outputs": [
        {
          "output_type": "execute_result",
          "data": {
            "text/plain": [
              "array([[ 29.,   0.,   4.,   0.,   0.,   0.,  26.,   0.,   1.,   0.,   5.,\n",
              "          0.,   6.,   0.,   0.,   2., 277., 391.,  24.,  24.,   0.,   0.,\n",
              "          0.,   0.,   0.,   0.],\n",
              "       [ 78.,  91.,  87.,   1.,   0.,   0.,   0.,   0.,   3.,   0., 106.,\n",
              "        167.,   0.,   0.,   6.,   0.,   0.,   0.,  63.,  62.,   0.,   0.,\n",
              "        101.,   0.,   1.,   0.],\n",
              "       [ 50.,   0.,  31.,   7., 116.,   0.,  23.,   3.,   3.,  85.,   0.,\n",
              "          9.,   0.,   1.,   0.,   0.,   0.,   0.,  23.,  28.,   0.,   0.,\n",
              "         91.,   0.,   0., 266.],\n",
              "       [ 58., 108., 113.,   8.,   0.,   0.,   8.,   0.,   5.,   3., 151.,\n",
              "        170.,   0.,   1.,  39.,   0.,   0.,   5.,  33.,  53.,   0.,   0.,\n",
              "         50.,   0.,   0.,   0.],\n",
              "       [ 88.,  86.,  37.,   0.,  34.,   0.,   0.,   0.,   2.,  74.,  63.,\n",
              "         35.,   0.,   0.,   0.,   0.,   0.,   0.,  27.,  27.,   0.,   0.,\n",
              "         97.,   0.,  32., 166.],\n",
              "       [ 56.,  18.,   4., 120.,   8.,   0.,  15., 213.,   0.,  22.,  43.,\n",
              "          1.,   8., 226.,   0.,   0.,   0.,   0.,  22.,  19.,   0.,   0.,\n",
              "          0.,   0.,   0.,   0.],\n",
              "       [ 73.,   0., 144.,   1.,   9.,   0.,   8.,   0., 116.,   4.,   6.,\n",
              "        115.,   0.,   0.,   2.,   0.,   0.,   6.,  60.,  33.,   0.,   0.,\n",
              "        134.,   0.,   2.,  60.],\n",
              "       [ 48.,  65.,  53.,   0.,  24., 160.,  20.,   0.,  19.,  48.,  64.,\n",
              "         39.,  17.,   0.,  42.,   0.,   0.,   2.,  37.,  49.,   0.,   0.,\n",
              "         47.,   0.,   0.,   0.],\n",
              "       [ 36., 172.,   0.,  13.,   0.,   0.,   0.,   1., 137.,  12.,  58.,\n",
              "          1.,   0.,   0.,  50., 100.,   0.,   0.,   4.,  31.,   0.,   0.,\n",
              "         58.,   0.,  76.,   6.],\n",
              "       [ 61., 146.,  19.,  31.,   2.,   0.,   2.,   0.,   3.,  12.,  49.,\n",
              "          1.,   0.,   0.,   3., 365.,  33.,   3.,   6.,  11.,   0.,   0.,\n",
              "          0.,   0.,   0.,   0.],\n",
              "       [ 41.,  40.,  69.,   0.,  64.,   0.,   3.,   0., 102., 108.,  76.,\n",
              "         13.,  20.,   0.,  31.,   0.,   0.,   1.,  51.,  45.,   0.,   0.,\n",
              "         59.,   0.,   1.,  15.],\n",
              "       [ 57.,  12.,  11.,   0.,   0.,   0.,   0.,   0.,   0.,   7.,   7.,\n",
              "         24.,   0.,   0.,   0.,   7.,  91., 148.,  15.,  42.,   0.,   0.,\n",
              "          1., 331.,   4.,   4.],\n",
              "       [ 11.,   9.,   3.,   0.,  11., 163., 228.,   0.,   2.,   4.,  28.,\n",
              "          0.,  66.,   0.,  78.,   0.,   0.,  28., 143.,  18.,   0.,   0.,\n",
              "          0.,   0.,   0.,   0.],\n",
              "       [ 13.,  41.,  40.,   0.,  10., 171., 166.,   9.,   9.,   3.,  61.,\n",
              "          9., 103.,   1.,  89.,   0.,   0.,   2.,  38.,  13.,   0.,   5.,\n",
              "          0.,   0.,   0.,   0.],\n",
              "       [  7.,   0., 262.,   4.,   0.,   0.,  14.,   0., 139.,   1.,  13.,\n",
              "        124.,   4.,   0.,  95.,   0.,   0.,   9.,  33.,  27.,   0.,   0.,\n",
              "         21.,   0.,   0.,   0.],\n",
              "       [ 34.,  17.,  25., 341.,   0.,   0.,  10.,   6.,   4.,   3.,  35.,\n",
              "         14.,   1., 195.,  36.,   0.,   0.,   0.,  45.,  37.,   0.,   0.,\n",
              "          0.,   0.,   0.,   0.],\n",
              "       [123.,   0., 144.,   0.,   0.,   0.,   5.,   0., 139.,   0.,  33.,\n",
              "        105.,   0.,   0.,  90.,   0.,   1.,  13.,  56.,  54.,   2.,   0.,\n",
              "         16.,   0.,   2.,   0.],\n",
              "       [ 58.,  68., 110.,   0.,   0.,   0.,   8.,   0.,  11.,   0., 110.,\n",
              "        174.,   0.,   0.,  45.,   0.,   0.,   0.,  50.,  62.,   0.,   0.,\n",
              "         62.,   0.,   0.,   0.],\n",
              "       [ 76.,  81.,  27.,  10.,  14.,   0.,   0.,   2.,   0.,  52.,  96.,\n",
              "         62.,   0.,   0.,   0.,   3.,   0.,  26.,  34.,  42.,   0.,   0.,\n",
              "         80.,   0., 143.,   0.],\n",
              "       [ 42.,   0.,  26.,  39.,   1.,   0.,   2., 122.,   0.,  61.,   1.,\n",
              "         11.,   0., 109.,   0.,   0.,   0.,   0.,  20.,  12., 224., 120.,\n",
              "          1.,   0.,   5.,   0.],\n",
              "       [  6.,   0.,  74.,   0., 196., 169.,  44.,  15.,  17., 107.,   0.,\n",
              "         15.,  32.,   0.,  55.,   0.,   0.,   0.,  42.,  13.,   4.,  16.,\n",
              "          8.,   0.,   0.,   0.],\n",
              "       [ 22.,   0.,   0.,  17.,   0.,   0.,  20., 157.,   0.,   0.,   0.,\n",
              "          0.,  84.,  10.,   0.,   0.,   0.,   0.,  35.,   0., 250., 169.,\n",
              "          0.,   0.,   0.,   0.],\n",
              "       [  2.,   0.,   1.,   0.,   0.,   0., 266.,  21.,   0.,   0.,   0.,\n",
              "          0., 246.,   2.,  43.,   0.,   0.,   0.,  83.,   0.,   0.,  88.,\n",
              "          0.,   0.,   0.,   0.],\n",
              "       [ 97.,  71.,  36.,   0.,  32.,   0.,   0.,   0., 119., 107.,  71.,\n",
              "          1.,   1.,   0.,  24.,   0.,   0.,   0.,  21.,  28.,   0.,   0.,\n",
              "         89.,   0.,  90.,   0.],\n",
              "       [ 90.,   0.,   6.,  18.,   1.,   0.,   5., 142.,   0.,  36.,   1.,\n",
              "          0.,  29.,  60.,   0.,   0.,   0.,   0.,  46.,   7., 202., 143.,\n",
              "          0.,   0.,   0.,   0.],\n",
              "       [ 63.,  87.,   1.,   6.,   5.,   0.,   0.,   0.,   0.,  59.,  65.,\n",
              "          4.,   0.,   0.,   0.,   0.,   1.,   5.,  10.,  25.,   0.,   0.,\n",
              "        106.,   0., 297.,   0.]])"
            ]
          },
          "metadata": {
            "tags": []
          },
          "execution_count": 14
        }
      ]
    }
  ]
}