{
  "nbformat": 4,
  "nbformat_minor": 0,
  "metadata": {
    "colab": {
      "name": "IA-GA.ipynb",
      "provenance": [],
      "collapsed_sections": []
    },
    "kernelspec": {
      "name": "python3",
      "display_name": "Python 3"
    },
    "language_info": {
      "name": "python"
    }
  },
  "cells": [
    {
      "cell_type": "code",
      "metadata": {
        "id": "E4elylxSxfG6"
      },
      "source": [
        "import numpy as np\n",
        "import matplotlib.pyplot as plt\n",
        "import math\n",
        "import random"
      ],
      "execution_count": null,
      "outputs": []
    },
    {
      "cell_type": "markdown",
      "metadata": {
        "id": "wvnnfZ5cFrw1"
      },
      "source": [
        "# Rastrigin"
      ]
    },
    {
      "cell_type": "code",
      "metadata": {
        "id": "Cmb88vd-4C1D"
      },
      "source": [
        "def rastrigin(populacao):\n",
        "    y = []\n",
        "    for ind in populacao:\n",
        "        ind_x = 10+ind[0]**2 - 10*math.cos(2*math.pi*ind[0])\n",
        "        ind_y = 10+ind[1]**2 - 10*math.cos(2*math.pi*ind[1])\n",
        "        ind_z = 10+ind[2]**2 - 10*math.cos(2*math.pi*ind[2])\n",
        "        result = ind_x + ind_y + ind_z\n",
        "        y.append(result)\n",
        "    return y"
      ],
      "execution_count": null,
      "outputs": []
    },
    {
      "cell_type": "code",
      "metadata": {
        "colab": {
          "base_uri": "https://localhost:8080/"
        },
        "id": "8O32X1LlKEKX",
        "outputId": "f2d6536c-f2c8-4987-a3e3-748fa4ba0651"
      },
      "source": [
        "teste = [[1.0,1.0,1.0],[2.0,2.0,2.0]]\n",
        "rastrigin(teste)"
      ],
      "execution_count": null,
      "outputs": [
        {
          "output_type": "execute_result",
          "data": {
            "text/plain": [
              "[3.0, 12.0]"
            ]
          },
          "metadata": {
            "tags": []
          },
          "execution_count": 42
        }
      ]
    },
    {
      "cell_type": "markdown",
      "metadata": {
        "id": "pqH5A5_WGsJe"
      },
      "source": [
        "# Inicializar população"
      ]
    },
    {
      "cell_type": "code",
      "metadata": {
        "id": "TcQYo9flGrpi"
      },
      "source": [
        "def inic_pop(n_ind,seed):\n",
        "    random.seed(seed)\n",
        "    populacao = []\n",
        "    \n",
        "    for i in range(n_ind):\n",
        "      ind = []\n",
        "      for j in range(3):\n",
        "        rand = random.uniform(-5.12,5.12)\n",
        "        ind.append(rand)\n",
        "      populacao.append(ind)\n",
        "    \n",
        "    return populacao"
      ],
      "execution_count": null,
      "outputs": []
    },
    {
      "cell_type": "code",
      "metadata": {
        "colab": {
          "base_uri": "https://localhost:8080/"
        },
        "id": "hq5N5J-_Ko5y",
        "outputId": "3450b0c8-3d49-4274-d58f-864acb36d2f5"
      },
      "source": [
        "pop = inic_pop(10,4)\n",
        "print(pop)"
      ],
      "execution_count": null,
      "outputs": [
        {
          "output_type": "stream",
          "text": [
            "[[-2.7, -4.06, -1.06], [-3.53, -4.44, -1.01], [4.28, 3.08, 2.72], [-2.85, 0.38, -2.29], [-3.35, -4.03, -2.92], [4.38, 3.37, 3.14], [3.08, -3.14, -1.95], [1.3, 2.37, 3.63], [3.89, -4.23, 1.08], [1.76, 0.06, -3.3]]\n"
          ],
          "name": "stdout"
        }
      ]
    },
    {
      "cell_type": "markdown",
      "metadata": {
        "id": "pRQnu4cFIAhz"
      },
      "source": [
        "# Seleção"
      ]
    },
    {
      "cell_type": "markdown",
      "metadata": {
        "id": "aAgitk_HZqfc"
      },
      "source": [
        "## Roleta"
      ]
    },
    {
      "cell_type": "code",
      "metadata": {
        "id": "JCAR1NgmH__n"
      },
      "source": [
        "def roleta(result):\n",
        "  soma = sum(result)\n",
        "  result_tmp = np.array(result)\n",
        "  percent = ((soma/result_tmp)/(sum(soma/result_tmp)))\n",
        "  cumulativo = np.cumsum(percent)\n",
        "\n",
        "  pais = []\n",
        "  for i in range(len(result_tmp)):\n",
        "    rand = random.uniform(0,1)\n",
        "    escolha = cumulativo-rand\n",
        "    indice = np.where(escolha >= 0)[0][0]\n",
        "    pais.append(indice)\n",
        "  return pais"
      ],
      "execution_count": null,
      "outputs": []
    },
    {
      "cell_type": "code",
      "metadata": {
        "id": "gSY0Fpu2MP3Q"
      },
      "source": [
        "pop = inic_pop(10,4)\n",
        "result = rastrigin(pop)\n",
        "roleta(result)"
      ],
      "execution_count": null,
      "outputs": []
    },
    {
      "cell_type": "markdown",
      "metadata": {
        "id": "rasT1L5vZsJk"
      },
      "source": [
        "## Torneio"
      ]
    },
    {
      "cell_type": "code",
      "metadata": {
        "id": "3xXhObJMZnZy"
      },
      "source": [
        "def torneio(result):\n",
        "    \n",
        "    pais = np.random.randint(len(result), size=(2, len(result))) #torneio entre 2\n",
        "    #print('pais: 'pais)\n",
        "    ind_a = pais[0, :]\n",
        "    ind_b = pais[1, :]\n",
        "    result_a = np.array(result)[ind_a]\n",
        "    result_b = np.array(result)[ind_b]\n",
        "    #print('primeiro: ',result_a)\n",
        "    #print('segundo: ',result_b)\n",
        "    criterio = result_a < result_b\n",
        "    \n",
        "    ind_pais = []\n",
        "    \n",
        "    for i in range(len(result)):\n",
        "      if criterio[i]:\n",
        "        ind_pais.append(ind_a[i])\n",
        "      else:\n",
        "        ind_pais.append(ind_b[i])\n",
        "\n",
        "            \n",
        "    return ind_pais"
      ],
      "execution_count": null,
      "outputs": []
    },
    {
      "cell_type": "code",
      "metadata": {
        "id": "3tfg9hKwe15C"
      },
      "source": [
        "print(result)\n",
        "torneio(result)"
      ],
      "execution_count": null,
      "outputs": []
    },
    {
      "cell_type": "markdown",
      "metadata": {
        "id": "k8M1GYGOaWNO"
      },
      "source": [
        "# Cruzamento"
      ]
    },
    {
      "cell_type": "code",
      "metadata": {
        "id": "v1I5EeRWaYl5"
      },
      "source": [
        "def cruzamento(indices_selec, pop, taxa_cruz):\n",
        "  \n",
        "  pais = np.random.randint(len(indices_selec), size=(2, int(len(indices_selec)/2))) #metade pois cada par irá gerar 2 filhos\n",
        "\n",
        "  ind_a = pais[0, :]\n",
        "  ind_b = pais[1, :]\n",
        "\n",
        "\n",
        "  pop_nova = []\n",
        "\n",
        "  for i in range(len(ind_a)):  #numero de casais formados\n",
        "    p1 = pop[ind_a[i]]\n",
        "    p2 = pop[ind_b[i]]\n",
        "        \n",
        "    ponto_troca = np.random.randint(3) #trocar x, y ou z entre si  \n",
        "    ponto_cruzamento = random.uniform(0,1)   #comparar com probabilidade\n",
        "    \n",
        "    if ponto_cruzamento <= taxa_cruz:\n",
        "      #print(\"trocou em \",i,\" valor \",ponto_troca)\n",
        "      filho1 = p1\n",
        "      filho2 = p2\n",
        "      temp = filho1[ponto_troca]\n",
        "      filho1[ponto_troca] = filho2[ponto_troca]\n",
        "      filho2[ponto_troca] = temp\n",
        "      pop_nova.append(filho1)\n",
        "      pop_nova.append(filho2)\n",
        "    \n",
        "    else:\n",
        "      pop_nova.append(p1)\n",
        "      pop_nova.append(p2)\n",
        "\n",
        "  return pop_nova"
      ],
      "execution_count": null,
      "outputs": []
    },
    {
      "cell_type": "code",
      "metadata": {
        "id": "FI1rpe5zi47-"
      },
      "source": [
        "teste = roleta(result)\n",
        "print(pop)\n",
        "cruzamento(teste,pop,0.5)"
      ],
      "execution_count": null,
      "outputs": []
    },
    {
      "cell_type": "markdown",
      "metadata": {
        "id": "npCXTBfQor20"
      },
      "source": [
        "# Mutação"
      ]
    },
    {
      "cell_type": "code",
      "metadata": {
        "colab": {
          "base_uri": "https://localhost:8080/"
        },
        "id": "4wH5Boowsc-r",
        "outputId": "075a1929-78c4-4f92-9932-929d574a3769"
      },
      "source": [
        "#https://stackoverflow.com/questions/51843297/convert-real-numbers-to-binary-and-vice-versa-in-python\n",
        "def float_to_binary(x, m, n):\n",
        "    \"\"\"Convert the float value `x` to a binary string of length `m + n`\n",
        "    where the first `m` binary digits are the integer part and the last\n",
        "    'n' binary digits are the fractional part of `x`.\n",
        "    \"\"\"\n",
        "    x_scaled = round(x * 2 ** n)\n",
        "    return '{:0{}b}'.format(x_scaled, m + n)\n",
        "\n",
        "def binary_to_float(bstr, m, n):\n",
        "    \"\"\"Convert a binary string in the format given above to its float\n",
        "    value.\n",
        "    \"\"\"\n",
        "    return int(bstr, 2) / 2 ** n\n",
        "\n",
        "print(float_to_binary(0.95, 0, 8))\n",
        "print(binary_to_float('11110011', 0, 8))"
      ],
      "execution_count": null,
      "outputs": [
        {
          "output_type": "stream",
          "text": [
            "11110011\n",
            "0.94921875\n"
          ],
          "name": "stdout"
        }
      ]
    },
    {
      "cell_type": "code",
      "metadata": {
        "id": "bANBhRG1otjO"
      },
      "source": [
        "def mutacao(pop, taxa_mut, tam_bin):   #tam_bin é quantidade de casas binarias. 8 parece um numero interessante. Dá pra testar outros\n",
        "  tam_mutantes = int((len(pop)*taxa_mut))\n",
        "  \n",
        "  for i in range(tam_mutantes):\n",
        "    \n",
        "    ind_mut = np.random.randint(0,len(pop))    #seleciona indice mutacionado\n",
        "    ponto_mut = np.random.randint(3)           #seleciona se muda x,y,z\n",
        "    mut = float_to_binary(pop[i][ponto_mut],0,tam_bin) #converte\n",
        "    #print(mut)                                  \n",
        "    bit_mut = np.random.randint(tam_bin)       #escolhe bit\n",
        "    novo_bit=''\n",
        "    if mut[bit_mut] == '0':\n",
        "      novo_bit = '1'\n",
        "    else:\n",
        "      novo_bit = '0'\n",
        "                                     \n",
        "    mut2 = '' \n",
        "    for i in range(tam_bin):           #trecho só pq string é imutavel. Cria outra.\n",
        "     if i != bit_mut:\n",
        "        mut2+=mut[i]\n",
        "     else:\n",
        "        mut2+=novo_bit\n",
        "    #print(mut2)\n",
        "    #print(pop[i])\n",
        "    pop[i][ponto_mut] = binary_to_float(mut2,0,8)\n",
        "    #print(pop[i])\n",
        "  return pop"
      ],
      "execution_count": null,
      "outputs": []
    },
    {
      "cell_type": "code",
      "metadata": {
        "id": "J8rTYPOSqNLW"
      },
      "source": [
        "print(pop)\n",
        "print(mutacao(pop,0.1,8))"
      ],
      "execution_count": null,
      "outputs": []
    },
    {
      "cell_type": "markdown",
      "metadata": {
        "id": "xPR7EmOkz6l8"
      },
      "source": [
        "# Elitismo"
      ]
    },
    {
      "cell_type": "code",
      "metadata": {
        "id": "cNL9D0J6z5xP"
      },
      "source": [
        "def selecElitismo(pop,result,taxa_elit):\n",
        "  qnt_elite = int(len(result)*taxa_elit)\n",
        "  fx_elite = sorted(result)[:qnt_elite]\n",
        "  indices_elite = list(np.argsort(result)[:qnt_elite])\n",
        "\n",
        "  return indices_elite"
      ],
      "execution_count": null,
      "outputs": []
    },
    {
      "cell_type": "code",
      "metadata": {
        "id": "rLixLwDRul94"
      },
      "source": [
        "def elitismo(pop,elite,resultPop):\n",
        "  resultElite = rastrigin(elite)\n",
        "  resultTodo = []\n",
        "  resultTodo = resultPop + resultElite\n",
        "  indices_elite_aux = list(np.argsort(resultTodo))\n",
        "  pop_Todo = pop\n",
        "  for i in range(len(elite)):\n",
        "    pop_Todo.append(list(elite[i]))\n",
        "  \n",
        "  indices_elite_final = indices_elite_aux[:len(pop_Todo)-len(elite)]\n",
        "  pop_final = []\n",
        "    \n",
        "  for ind in indices_elite_final:\n",
        "    pop_final.append(pop_Todo[ind])\n",
        "  \n",
        "  \n",
        "  return pop_final"
      ],
      "execution_count": null,
      "outputs": []
    },
    {
      "cell_type": "markdown",
      "metadata": {
        "id": "JEOzXW3uRjdY"
      },
      "source": [
        "#Plot"
      ]
    },
    {
      "cell_type": "code",
      "metadata": {
        "id": "5zesVJVYRhrC"
      },
      "source": [
        "def plot_resultados(resultados, media_resultados):\n",
        "    \n",
        "    # Resultado Geral\n",
        "    plt.plot(resultados, 'blue')\n",
        "        \n",
        "    plt.title('Resultado Geral')\n",
        "    plt.xlabel('Geração')\n",
        "    plt.ylabel('f(x)')\n",
        "    plt.legend(['Melhor Performance da Geração'])\n",
        "    plt.rcParams['figure.figsize'] = (20,10)\n",
        "\n",
        "    plt.figure()\n",
        "    \n",
        "    # Resultado Médio\n",
        "    plt.plot(media_resultados, 'black')\n",
        "\n",
        "    plt.title('Resultado Médio')\n",
        "    plt.xlabel('Geração')\n",
        "    plt.ylabel('f(x)')\n",
        "    plt.legend(['Performance Média da Geração'])\n",
        "    plt.rcParams['figure.figsize'] = (20,10)\n",
        "\n",
        "    plt.figure()"
      ],
      "execution_count": null,
      "outputs": []
    },
    {
      "cell_type": "markdown",
      "metadata": {
        "id": "oPcNiEqVPwug"
      },
      "source": [
        "#Execução"
      ]
    },
    {
      "cell_type": "code",
      "metadata": {
        "id": "3JTlEeWqPAIf"
      },
      "source": [
        "def algoGenetico(qnt_populacao,seed,n_geracoes,taxa_elit,selecao,taxa_cruz,taxa_mut,tam_bin):\n",
        "\n",
        "  media_resultados = []\n",
        "  resultados = []\n",
        "\n",
        "  popu = inic_pop(qnt_populacao, seed)\n",
        "  #print('Pop: ',popu)\n",
        "  # Respostas para rastrigin\n",
        "  #print('Resultados: ',result)\n",
        "  result = rastrigin(popu)\n",
        "  \n",
        "  for i in range(n_geracoes):\n",
        "      \n",
        "      # Captura dos índices e resultados com melhor desempenho\n",
        "      #print('seleciona elite')\n",
        "      ind_elite = []\n",
        "      ind_elite = selecElitismo(popu,result,taxa_elit)\n",
        "      elite = list(np.array(popu)[ind_elite])\n",
        "      \n",
        "      \n",
        "      # (2) Seleção\n",
        "      #print('selecao')\n",
        "      if selecao == 'roleta':\n",
        "        pais = roleta(result)\n",
        "      else:\n",
        "        pais = torneio(result)\n",
        "      \n",
        "      # (3) Cruzamento\n",
        "      #print('Ok')\n",
        "      pop_cruz = cruzamento(pais,popu,taxa_cruz)\n",
        "      \n",
        "      #print('mutacao')\n",
        "      # (4) Mutação\n",
        "      pop_mut = mutacao(pop_cruz,taxa_mut,tam_bin)\n",
        "      \n",
        "      \n",
        "\n",
        "      #print('result pre elitismo')\n",
        "      resultPop = rastrigin(pop_mut)\n",
        "      # (5) Elitismo\n",
        "      #print('elitismo')\n",
        "      popu = []\n",
        "      popu = elitismo(pop_mut,elite,resultPop)\n",
        "      \n",
        "    \n",
        "      # Resultados\n",
        "     # print('result final')\n",
        "      result = rastrigin(popu)\n",
        "      media_resultados.append(np.mean(result))\n",
        "      resultados.append(min(result))\n",
        "\n",
        "      if i == (n_geracoes - 1):\n",
        "          print('O valor mínimo obtido foi', min(result))\n",
        "\n",
        "          print('Os valores numéricos de entrada que trouxeram esse resultado foram', popu[np.argmin(result)])\n",
        "    \n",
        "  plot_resultados(resultados, media_resultados)\n",
        "  return popu"
      ],
      "execution_count": null,
      "outputs": []
    },
    {
      "cell_type": "code",
      "metadata": {
        "colab": {
          "base_uri": "https://localhost:8080/",
          "height": 1000
        },
        "id": "UIf2RGCLaSom",
        "outputId": "2d44f8a1-7a71-4863-b9f9-cb2ab97f0086"
      },
      "source": [
        "%%time\n",
        "qnt_populacao = 100\n",
        "seed = 42\n",
        "n_geracoes = 150\n",
        "taxa_elit = 0.1\n",
        "selecao = 'roleta'\n",
        "taxa_cruz = 0.7\n",
        "taxa_mut = 0.3\n",
        "tam_bin = 10\n",
        "\n",
        "popu = algoGenetico(qnt_populacao,seed,n_geracoes,taxa_elit,selecao,taxa_cruz,taxa_mut,tam_bin)\n"
      ],
      "execution_count": null,
      "outputs": [
        {
          "output_type": "stream",
          "text": [
            "O valor mínimo obtido foi 0.9959184255678473\n",
            "Os valores numéricos de entrada que trouxeram esse resultado foram [0.0, -0.9971580712727679, 0.0]\n",
            "CPU times: user 520 ms, sys: 9.07 ms, total: 529 ms\n",
            "Wall time: 523 ms\n"
          ],
          "name": "stdout"
        },
        {
          "output_type": "display_data",
          "data": {
            "image/png": "[encoded data removed]",
            "text/plain": [
              "<Figure size 1440x720 with 1 Axes>"
            ]
          },
          "metadata": {
            "tags": [],
            "needs_background": "light"
          }
        },
        {
          "output_type": "display_data",
          "data": {
            "image/png": "[encoded data removed]",
            "text/plain": [
              "<Figure size 1440x720 with 1 Axes>"
            ]
          },
          "metadata": {
            "tags": [],
            "needs_background": "light"
          }
        },
        {
          "output_type": "display_data",
          "data": {
            "text/plain": [
              "<Figure size 1440x720 with 0 Axes>"
            ]
          },
          "metadata": {
            "tags": []
          }
        }
      ]
    },
    {
      "cell_type": "code",
      "metadata": {
        "colab": {
          "base_uri": "https://localhost:8080/"
        },
        "id": "HlOOQW_ux87b",
        "outputId": "4245f134-1c39-43e7-9aa1-04b6891cff4e"
      },
      "source": [
        "popu"
      ],
      "execution_count": null,
      "outputs": [
        {
          "output_type": "execute_result",
          "data": {
            "text/plain": [
              "[[0.015625, -0.9971580712727679, 0.0],\n",
              " [0.015625, -0.9971580712727679, 0.0],\n",
              " [0.015625, -0.9971580712727679, 0.0],\n",
              " [0.015625, -0.9971580712727679, 0.0],\n",
              " [0.015625, -0.9971580712727679, 0.0],\n",
              " [0.015625, -0.9971580712727679, 0.0],\n",
              " [0.015625, -0.9971580712727679, 0.0],\n",
              " [0.015625, -0.9971580712727679, 0.0],\n",
              " [0.015625, -0.9971580712727679, 0.0],\n",
              " [0.015625, -0.9971580712727679, 0.0],\n",
              " [0.015625, -0.9971580712727679, 0.0],\n",
              " [0.015625, -0.9971580712727679, 0.0],\n",
              " [0.015625, -0.9971580712727679, 0.0],\n",
              " [0.015625, -0.9971580712727679, 0.0],\n",
              " [0.015625, -0.9971580712727679, 0.0],\n",
              " [0.015625, -0.9971580712727679, 0.0],\n",
              " [0.015625, -0.9971580712727679, 0.0],\n",
              " [0.015625, -0.9971580712727679, 0.0],\n",
              " [0.015625, -0.9971580712727679, 0.0],\n",
              " [0.015625, -0.9971580712727679, 0.0],\n",
              " [0.015625, -0.9971580712727679, 0.0],\n",
              " [0.015625, -0.9971580712727679, 0.0],\n",
              " [0.015625, -0.9971580712727679, 0.0],\n",
              " [0.015625, -0.9971580712727679, 0.0],\n",
              " [0.015625, -0.9971580712727679, 0.0],\n",
              " [0.015625, -0.9971580712727679, 0.0],\n",
              " [0.015625, -0.9971580712727679, 0.0],\n",
              " [0.015625, -0.9971580712727679, 0.0],\n",
              " [0.015625, -0.9971580712727679, 0.0],\n",
              " [0.015625, -0.9971580712727679, 0.0],\n",
              " [0.015625, -0.9971580712727679, 0.0],\n",
              " [0.015625, -0.9971580712727679, 0.0],\n",
              " [0.015625, -0.9971580712727679, 0.0],\n",
              " [0.015625, -0.9971580712727679, 0.0],\n",
              " [0.015625, -0.9971580712727679, 0.0],\n",
              " [0.015625, -0.9971580712727679, 0.0],\n",
              " [0.015625, -0.9971580712727679, 0.0],\n",
              " [0.015625, -0.9971580712727679, 0.0],\n",
              " [0.015625, -0.9971580712727679, 0.0],\n",
              " [0.015625, -0.9971580712727679, 0.0],\n",
              " [0.015625, -0.9971580712727679, 0.0],\n",
              " [0.015625, -0.9971580712727679, 0.0],\n",
              " [0.015625, -0.9971580712727679, 0.0],\n",
              " [0.015625, -0.9971580712727679, 0.0],\n",
              " [0.015625, -0.9971580712727679, 0.0],\n",
              " [0.015625, -0.9971580712727679, 0.0],\n",
              " [0.015625, -0.9971580712727679, 0.0],\n",
              " [0.015625, -0.9971580712727679, 0.0],\n",
              " [0.015625, -0.9971580712727679, 0.0],\n",
              " [0.015625, -0.9971580712727679, 0.0],\n",
              " [0.015625, -0.9971580712727679, 0.0],\n",
              " [0.015625, -0.9971580712727679, 0.0],\n",
              " [0.015625, -0.9971580712727679, 0.0],\n",
              " [0.015625, -0.9971580712727679, 0.0],\n",
              " [0.015625, -0.9971580712727679, 0.0],\n",
              " [0.015625, -0.9971580712727679, 0.0],\n",
              " [0.015625, -0.9971580712727679, 0.0],\n",
              " [0.015625, -0.9971580712727679, 0.0],\n",
              " [0.015625, -0.9971580712727679, 0.0],\n",
              " [0.015625, -0.9971580712727679, 0.0],\n",
              " [0.015625, -0.9971580712727679, 0.0],\n",
              " [0.015625, -0.9971580712727679, 0.0],\n",
              " [0.015625, -0.9971580712727679, 0.0],\n",
              " [0.015625, -0.9971580712727679, 0.0],\n",
              " [0.015625, -0.9971580712727679, 0.0],\n",
              " [0.015625, -0.9971580712727679, 0.0],\n",
              " [0.015625, -0.9971580712727679, 0.0],\n",
              " [0.015625, -0.9971580712727679, 0.0],\n",
              " [0.015625, -0.9971580712727679, 0.0],\n",
              " [0.015625, -0.9971580712727679, 0.0],\n",
              " [0.015625, -0.9971580712727679, 0.0],\n",
              " [0.015625, -0.9971580712727679, 0.0],\n",
              " [0.015625, -0.9971580712727679, 0.0],\n",
              " [0.015625, -0.9971580712727679, 0.0],\n",
              " [0.015625, -0.9971580712727679, 0.0],\n",
              " [0.015625, -0.9971580712727679, 0.0],\n",
              " [0.015625, -0.9971580712727679, 0.0],\n",
              " [0.015625, -0.9971580712727679, 0.0],\n",
              " [0.015625, -0.9971580712727679, 0.0],\n",
              " [0.015625, -0.9971580712727679, 0.0],\n",
              " [0.015625, -0.9971580712727679, 0.0],\n",
              " [0.015625, -0.9971580712727679, 0.0],\n",
              " [0.015625, -0.9971580712727679, 0.0],\n",
              " [0.015625, -0.9971580712727679, 0.0],\n",
              " [0.015625, -0.9971580712727679, 0.0],\n",
              " [0.015625, -0.9971580712727679, 0.0],\n",
              " [0.015625, -0.9971580712727679, 0.0],\n",
              " [0.015625, -0.9971580712727679, 0.0],\n",
              " [0.015625, -0.9971580712727679, 0.0],\n",
              " [0.015625, -0.9971580712727679, 0.0],\n",
              " [0.015625, -0.9971580712727679, 0.0],\n",
              " [0.015625, -0.9971580712727679, 0.0],\n",
              " [0.015625, -0.9971580712727679, 0.0],\n",
              " [0.01953125, -0.9971580712727679, 0.0],\n",
              " [0.01953125, -0.9971580712727679, 0.0],\n",
              " [0.01953125, -0.9971580712727679, 0.0],\n",
              " [0.01953125, -0.9971580712727679, 0.0],\n",
              " [0.01953125, -0.9971580712727679, 0.0],\n",
              " [0.01953125, -0.9971580712727679, 0.0],\n",
              " [0.01953125, -0.9971580712727679, 0.0]]"
            ]
          },
          "metadata": {
            "tags": []
          },
          "execution_count": 81
        }
      ]
    }
  ]
}